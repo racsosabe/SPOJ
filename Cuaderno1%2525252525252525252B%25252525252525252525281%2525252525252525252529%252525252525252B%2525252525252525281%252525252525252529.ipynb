{
 "cells": [
  {
   "cell_type": "markdown",
   "metadata": {
    "collapsed": true,
    "deletable": true,
    "editable": true
   },
   "source": [
    "## Vectores y matrices\n",
    "\n",
    "Las estructuras de datos de R, pueden ser organizadas por su *dimensión (1d, 2d o nd)* y si  son **homógeneas ** (todo el contenido debe ser del mismo tipo) o **heterógeneas** (el contenido puede ser de diferente tipo). A partir de esta organización surgen cinco tipos de datos que son usados en el *análisis de datos*.\n",
    "\n",
    "\n",
    "\n",
    "|          | Homogéneos |  Heterogéneos |\n",
    "| :------- | :------:   |  -----:       |\n",
    "| 1d       |  Vector    |  Lista        |\n",
    "| 2d       |  Matriz    | Data Frame    |\n",
    "|nd        |  Array     | \n",
    "\n",
    "\n",
    "Se debe tener  en cuenta que en R  ningún objeto o estructura tiene dimensión cero . Números o cadenas individuales son  en realidad son vectores de longitud uno. Dado un objeto, la mejor manera de entender su  estructura   es la  utilizar las funciones **str ()**. \n",
    "\n",
    "**str ()** es la abreviatura de *estructura* y proporciona  una compacta descripción, legible de cualquier estructura de datos en  R. Mayor información es utilizando `help(str)`.\n"
   ]
  },
  {
   "cell_type": "markdown",
   "metadata": {},
   "source": [
    "## Vectores en R\n",
    "\n",
    "La estructura más común en R es el  **vector**. Los vectores vienen de dos formas: *vectores atómicos y listas*, cada uno de ellos  tienen tres propiedades comunes:\n",
    "\n",
    " * Tipo, `typeof()`, (que es).\n",
    " * Longitud, `length()`, (cuántos elemento contiene).\n",
    " * Atributos, `attributes()` (metadata adicional).\n",
    "\n",
    "El tipo de dato que debe contener un *vector atómico* debe ser del mismo tipo, los vectores  pueden ser lógicos, numéricos o de caracter. Si mezclamos  datos, R **coerce** los datos a un único tipo. Las *listas* que pueden tener diferentes tipos.\n",
    "\n",
    "Si usamos la función `is.vector()` retorna el valor booleano  `TRUE` sólo si el objeto es un vector, sin atributos aparte de su nombre. Se debes usar `is.atomic(x) || is.list(x)` para probar si un objeto es un vector.\n",
    "\n",
    "Los *vectores atómicos* tiene ciertas características interesantes:\n",
    "    \n",
    "* Recycling es el alargamiento automatico de vectores de distinta longitud.\n",
    "* Filtering  es la extracción de subconjuntos de vectores.\n",
    "* Vectorización se da cuando las funciones son aplicadas componente a componente.\n"
   ]
  },
  {
   "cell_type": "code",
   "execution_count": 3,
   "metadata": {
    "collapsed": false
   },
   "outputs": [
    {
     "name": "stdout",
     "output_type": "stream",
     "text": [
      "[1] 1\n",
      "[1] 2\n",
      "[1] 1 2\n"
     ]
    }
   ],
   "source": [
    "# Ejemplos \n",
    "# Se usa la funcion c() para volver un conjunto de elementos como un vector\n",
    "x <- c(1) # x es un vector de 1 elemento: {1}\n",
    "print(x)\n",
    "# Además c() concatena vector con elemento o vector con vector\n",
    "y <- c(2)\n",
    "print(y)\n",
    "z <- c(x,y)\n",
    "print(z)"
   ]
  },
  {
   "cell_type": "markdown",
   "metadata": {},
   "source": [
    "Dado un vector se puedes determinar su tipo usando `typeof` o verificar si es un tipo específico, con las funciones\n",
    "\n",
    "* `is.character()`\n",
    "* `is double()`\n",
    "* `is.integer()`\n",
    "* `is.logical()`\n",
    "\n",
    "o más generalmente con la función  `is.atomic()`."
   ]
  },
  {
   "cell_type": "code",
   "execution_count": 6,
   "metadata": {
    "collapsed": false
   },
   "outputs": [
    {
     "data": {
      "text/html": [
       "TRUE"
      ],
      "text/latex": [
       "TRUE"
      ],
      "text/markdown": [
       "TRUE"
      ],
      "text/plain": [
       "[1] TRUE"
      ]
     },
     "metadata": {},
     "output_type": "display_data"
    },
    {
     "data": {
      "text/html": [
       "FALSE"
      ],
      "text/latex": [
       "FALSE"
      ],
      "text/markdown": [
       "FALSE"
      ],
      "text/plain": [
       "[1] FALSE"
      ]
     },
     "metadata": {},
     "output_type": "display_data"
    },
    {
     "data": {
      "text/html": [
       "TRUE"
      ],
      "text/latex": [
       "TRUE"
      ],
      "text/markdown": [
       "TRUE"
      ],
      "text/plain": [
       "[1] TRUE"
      ]
     },
     "metadata": {},
     "output_type": "display_data"
    },
    {
     "data": {
      "text/html": [
       "TRUE"
      ],
      "text/latex": [
       "TRUE"
      ],
      "text/markdown": [
       "TRUE"
      ],
      "text/plain": [
       "[1] TRUE"
      ]
     },
     "metadata": {},
     "output_type": "display_data"
    }
   ],
   "source": [
    "# Ejemplos\n",
    "doubles <- c(1.2,2.3,4.5)\n",
    "is.double(doubles)\n",
    "integers <- 1:5\n",
    "is.double(integers)\n",
    "is.integer(integers)\n",
    "logicals <- c(T,F,T,F)\n",
    "is.logical(logicals)"
   ]
  },
  {
   "cell_type": "code",
   "execution_count": 8,
   "metadata": {
    "collapsed": false
   },
   "outputs": [
    {
     "data": {
      "text/html": [
       "<ol class=list-inline>\n",
       "\t<li>1</li>\n",
       "\t<li>2</li>\n",
       "\t<li>3</li>\n",
       "</ol>\n"
      ],
      "text/latex": [
       "\\begin{enumerate*}\n",
       "\\item 1\n",
       "\\item 2\n",
       "\\item 3\n",
       "\\end{enumerate*}\n"
      ],
      "text/markdown": [
       "1. 1\n",
       "2. 2\n",
       "3. 3\n",
       "\n",
       "\n"
      ],
      "text/plain": [
       "[1] 1 2 3"
      ]
     },
     "metadata": {},
     "output_type": "display_data"
    },
    {
     "data": {
      "text/html": [
       "<ol class=list-inline>\n",
       "\t<li>1</li>\n",
       "\t<li>2</li>\n",
       "\t<li>3</li>\n",
       "\t<li>4</li>\n",
       "\t<li>5</li>\n",
       "\t<li>6</li>\n",
       "</ol>\n"
      ],
      "text/latex": [
       "\\begin{enumerate*}\n",
       "\\item 1\n",
       "\\item 2\n",
       "\\item 3\n",
       "\\item 4\n",
       "\\item 5\n",
       "\\item 6\n",
       "\\end{enumerate*}\n"
      ],
      "text/markdown": [
       "1. 1\n",
       "2. 2\n",
       "3. 3\n",
       "4. 4\n",
       "5. 5\n",
       "6. 6\n",
       "\n",
       "\n"
      ],
      "text/plain": [
       "[1] 1 2 3 4 5 6"
      ]
     },
     "metadata": {},
     "output_type": "display_data"
    },
    {
     "data": {
      "text/html": [
       "<ol class=list-inline>\n",
       "\t<li>1</li>\n",
       "\t<li>3</li>\n",
       "\t<li>5</li>\n",
       "\t<li>7</li>\n",
       "\t<li>9</li>\n",
       "</ol>\n"
      ],
      "text/latex": [
       "\\begin{enumerate*}\n",
       "\\item 1\n",
       "\\item 3\n",
       "\\item 5\n",
       "\\item 7\n",
       "\\item 9\n",
       "\\end{enumerate*}\n"
      ],
      "text/markdown": [
       "1. 1\n",
       "2. 3\n",
       "3. 5\n",
       "4. 7\n",
       "5. 9\n",
       "\n",
       "\n"
      ],
      "text/plain": [
       "[1] 1 3 5 7 9"
      ]
     },
     "metadata": {},
     "output_type": "display_data"
    },
    {
     "data": {
      "text/html": [
       "<ol class=list-inline>\n",
       "\t<li>3</li>\n",
       "\t<li>6</li>\n",
       "\t<li>7</li>\n",
       "\t<li>8</li>\n",
       "\t<li>9</li>\n",
       "\t<li>10</li>\n",
       "</ol>\n"
      ],
      "text/latex": [
       "\\begin{enumerate*}\n",
       "\\item 3\n",
       "\\item 6\n",
       "\\item 7\n",
       "\\item 8\n",
       "\\item 9\n",
       "\\item 10\n",
       "\\end{enumerate*}\n"
      ],
      "text/markdown": [
       "1. 3\n",
       "2. 6\n",
       "3. 7\n",
       "4. 8\n",
       "5. 9\n",
       "6. 10\n",
       "\n",
       "\n"
      ],
      "text/plain": [
       "[1]  3  6  7  8  9 10"
      ]
     },
     "metadata": {},
     "output_type": "display_data"
    }
   ],
   "source": [
    "# Agregando y eliminando elementos de los vectores\n",
    "# Se puede concatenar para agregar elementos\n",
    "V <- c(1,2,3)\n",
    "V\n",
    "V <- c(V,4,5,6)\n",
    "V\n",
    "# Se pueden quitar determinados elementos con la funcion setdiff si se sabe los elementos en particular que se deben quitar\n",
    "Vector <- c(1:10)\n",
    "Quitar <- c(2*(1:10))\n",
    "VectorReducido <- setdiff(Vector,Quitar)\n",
    "VectorReducido\n",
    "# Para quitar elementos conociendo solo sus índices se puede usar la siguiente sintaxis\n",
    "Indices <- c(1,2,4,5)\n",
    "VectorSinIndex <- Vector[-Indices]\n",
    "VectorSinIndex"
   ]
  },
  {
   "cell_type": "code",
   "execution_count": 1,
   "metadata": {
    "collapsed": false
   },
   "outputs": [
    {
     "data": {
      "text/html": [
       "6"
      ],
      "text/latex": [
       "6"
      ],
      "text/markdown": [
       "6"
      ],
      "text/plain": [
       "[1] 6"
      ]
     },
     "metadata": {},
     "output_type": "display_data"
    },
    {
     "data": {
      "text/html": [
       "6"
      ],
      "text/latex": [
       "6"
      ],
      "text/markdown": [
       "6"
      ],
      "text/plain": [
       "[1] 6"
      ]
     },
     "metadata": {},
     "output_type": "display_data"
    },
    {
     "data": {
      "text/html": [
       "8"
      ],
      "text/latex": [
       "8"
      ],
      "text/markdown": [
       "8"
      ],
      "text/plain": [
       "[1] 8"
      ]
     },
     "metadata": {},
     "output_type": "display_data"
    }
   ],
   "source": [
    "# Obteniendo la longitud de un vector\n",
    "V <- c(1,2,3,4,5,10)\n",
    "length(V)\n",
    "# NULL no aumenta el tamaño de los vectores\n",
    "V <- c(V,NULL)\n",
    "length(V)\n",
    "# Los valores no determinados como NA o NaN sí tienen tamaño 1\n",
    "V <- c(V,NA,NaN)\n",
    "length(V)"
   ]
  },
  {
   "cell_type": "markdown",
   "metadata": {},
   "source": [
    "### Recycling\n",
    "\n",
    "Sea el siguiente ejemplo:"
   ]
  },
  {
   "cell_type": "code",
   "execution_count": 5,
   "metadata": {
    "collapsed": false
   },
   "outputs": [
    {
     "data": {
      "text/html": [
       "<ol class=list-inline>\n",
       "\t<li>2</li>\n",
       "\t<li>3</li>\n",
       "\t<li>4</li>\n",
       "\t<li>5</li>\n",
       "\t<li>6</li>\n",
       "</ol>\n"
      ],
      "text/latex": [
       "\\begin{enumerate*}\n",
       "\\item 2\n",
       "\\item 3\n",
       "\\item 4\n",
       "\\item 5\n",
       "\\item 6\n",
       "\\end{enumerate*}\n"
      ],
      "text/markdown": [
       "1. 2\n",
       "2. 3\n",
       "3. 4\n",
       "4. 5\n",
       "5. 6\n",
       "\n",
       "\n"
      ],
      "text/plain": [
       "[1] 2 3 4 5 6"
      ]
     },
     "metadata": {},
     "output_type": "display_data"
    },
    {
     "data": {
      "text/html": [
       "<ol class=list-inline>\n",
       "\t<li>2</li>\n",
       "\t<li>3</li>\n",
       "\t<li>4</li>\n",
       "\t<li>5</li>\n",
       "\t<li>6</li>\n",
       "</ol>\n"
      ],
      "text/latex": [
       "\\begin{enumerate*}\n",
       "\\item 2\n",
       "\\item 3\n",
       "\\item 4\n",
       "\\item 5\n",
       "\\item 6\n",
       "\\end{enumerate*}\n"
      ],
      "text/markdown": [
       "1. 2\n",
       "2. 3\n",
       "3. 4\n",
       "4. 5\n",
       "5. 6\n",
       "\n",
       "\n"
      ],
      "text/plain": [
       "[1] 2 3 4 5 6"
      ]
     },
     "metadata": {},
     "output_type": "display_data"
    }
   ],
   "source": [
    "1:5 + 1\n",
    "1 + 1:5"
   ]
  },
  {
   "cell_type": "markdown",
   "metadata": {},
   "source": [
    "Qué está pasando con el vector de menor longitud, en el code anterior?.\n",
    "\n",
    "R, está haciendo **recycling** de manera que la operación continue y se realice . En este ejemplo \n",
    "agregamos unos de la longitud del vector ` 1 1 1  1 1 + 1 2 3 4 5`.\n"
   ]
  },
  {
   "cell_type": "code",
   "execution_count": 3,
   "metadata": {
    "collapsed": false
   },
   "outputs": [
    {
     "name": "stderr",
     "output_type": "stream",
     "text": [
      "Warning message:\n",
      "In 1:2 + 2:4: longer object length is not a multiple of shorter object length"
     ]
    },
    {
     "data": {
      "text/html": [
       "<ol class=list-inline>\n",
       "\t<li>3</li>\n",
       "\t<li>5</li>\n",
       "\t<li>5</li>\n",
       "</ol>\n"
      ],
      "text/latex": [
       "\\begin{enumerate*}\n",
       "\\item 3\n",
       "\\item 5\n",
       "\\item 5\n",
       "\\end{enumerate*}\n"
      ],
      "text/markdown": [
       "1. 3\n",
       "2. 5\n",
       "3. 5\n",
       "\n",
       "\n"
      ],
      "text/plain": [
       "[1] 3 5 5"
      ]
     },
     "metadata": {},
     "output_type": "display_data"
    }
   ],
   "source": [
    "# ejemplo\n",
    "# Se puede dar el recycling correctamente entre los vectores u,v si y solo si length(u) = k*length(v) o k*length(u) = length(v), k es un entero \n",
    "# Si no es el caso, se completa y arroja un mensaje de advertencia\n",
    "1:2 + 2:4"
   ]
  },
  {
   "cell_type": "code",
   "execution_count": 4,
   "metadata": {
    "collapsed": false
   },
   "outputs": [
    {
     "data": {
      "text/html": [
       "<ol class=list-inline>\n",
       "\t<li>2</li>\n",
       "\t<li>2</li>\n",
       "\t<li>4</li>\n",
       "\t<li>4</li>\n",
       "\t<li>6</li>\n",
       "\t<li>6</li>\n",
       "\t<li>8</li>\n",
       "\t<li>8</li>\n",
       "\t<li>10</li>\n",
       "\t<li>10</li>\n",
       "</ol>\n"
      ],
      "text/latex": [
       "\\begin{enumerate*}\n",
       "\\item 2\n",
       "\\item 2\n",
       "\\item 4\n",
       "\\item 4\n",
       "\\item 6\n",
       "\\item 6\n",
       "\\item 8\n",
       "\\item 8\n",
       "\\item 10\n",
       "\\item 10\n",
       "\\end{enumerate*}\n"
      ],
      "text/markdown": [
       "1. 2\n",
       "2. 2\n",
       "3. 4\n",
       "4. 4\n",
       "5. 6\n",
       "6. 6\n",
       "7. 8\n",
       "8. 8\n",
       "9. 10\n",
       "10. 10\n",
       "\n",
       "\n"
      ],
      "text/plain": [
       " [1]  2  2  4  4  6  6  8  8 10 10"
      ]
     },
     "metadata": {},
     "output_type": "display_data"
    }
   ],
   "source": [
    "# ejemplos\n",
    "# Los valores boleanos se coercen a enteros\n",
    "c(T,F) + c(1:10)"
   ]
  },
  {
   "cell_type": "code",
   "execution_count": 5,
   "metadata": {
    "collapsed": false
   },
   "outputs": [
    {
     "ename": "ERROR",
     "evalue": "Error in c(\"Hola\", \"GG\") + c(\" Mundo\", \" WP\"): non-numeric argument to binary operator\n",
     "output_type": "error",
     "traceback": "Error in c(\"Hola\", \"GG\") + c(\" Mundo\", \" WP\"): non-numeric argument to binary operator\nTraceback:\n"
    }
   ],
   "source": [
    "#ejemplos\n",
    "# La funcion de suma '+' no está definida para cadenas. ERROR\n",
    "c(\"Hola\",\"GG\") + c(\" Mundo\",\" WP\")"
   ]
  },
  {
   "cell_type": "markdown",
   "metadata": {},
   "source": [
    "### Operaciones con vectores\n",
    "\n",
    "Al ser R un lenguaje de tipo funcional, cada operador incluyendo `+, <-`  es una función y satisface muchas operaciones aritméticas:"
   ]
  },
  {
   "cell_type": "code",
   "execution_count": 2,
   "metadata": {
    "collapsed": false
   },
   "outputs": [
    {
     "data": {
      "text/html": [
       "5.4"
      ],
      "text/latex": [
       "5.4"
      ],
      "text/markdown": [
       "5.4"
      ],
      "text/plain": [
       "[1] 5.4"
      ]
     },
     "metadata": {},
     "output_type": "display_data"
    },
    {
     "data": {
      "text/html": [
       "5.4"
      ],
      "text/latex": [
       "5.4"
      ],
      "text/markdown": [
       "5.4"
      ],
      "text/plain": [
       "[1] 5.4"
      ]
     },
     "metadata": {},
     "output_type": "display_data"
    },
    {
     "data": {
      "text/html": [
       "<ol class=list-inline>\n",
       "\t<li>5</li>\n",
       "\t<li>5</li>\n",
       "\t<li>5</li>\n",
       "\t<li>5</li>\n",
       "</ol>\n"
      ],
      "text/latex": [
       "\\begin{enumerate*}\n",
       "\\item 5\n",
       "\\item 5\n",
       "\\item 5\n",
       "\\item 5\n",
       "\\end{enumerate*}\n"
      ],
      "text/markdown": [
       "1. 5\n",
       "2. 5\n",
       "3. 5\n",
       "4. 5\n",
       "\n",
       "\n"
      ],
      "text/plain": [
       "[1] 5 5 5 5"
      ]
     },
     "metadata": {},
     "output_type": "display_data"
    },
    {
     "data": {
      "text/html": [
       "<ol class=list-inline>\n",
       "\t<li>1</li>\n",
       "\t<li>2</li>\n",
       "\t<li>3</li>\n",
       "\t<li>4</li>\n",
       "</ol>\n"
      ],
      "text/latex": [
       "\\begin{enumerate*}\n",
       "\\item 1\n",
       "\\item 2\n",
       "\\item 3\n",
       "\\item 4\n",
       "\\end{enumerate*}\n"
      ],
      "text/markdown": [
       "1. 1\n",
       "2. 2\n",
       "3. 3\n",
       "4. 4\n",
       "\n",
       "\n"
      ],
      "text/plain": [
       "[1] 1 2 3 4"
      ]
     },
     "metadata": {},
     "output_type": "display_data"
    }
   ],
   "source": [
    "# ejemplos\n",
    "2.4 + 3\n",
    "\"+\"(2.4,3) # La suma es una funcion de solo 2 argumentos numericos\n",
    "# Se pueden sumar vectores elemento por elemento (incluso si es necesario, con recycling)\n",
    "v <- c(1,2,3,4)\n",
    "v + c(4,3,2,1)\n",
    "v"
   ]
  },
  {
   "cell_type": "code",
   "execution_count": 3,
   "metadata": {
    "collapsed": false
   },
   "outputs": [
    {
     "data": {
      "text/html": [
       "<ol class=list-inline>\n",
       "\t<li>11</li>\n",
       "\t<li>4</li>\n",
       "\t<li>12</li>\n",
       "\t<li>20</li>\n",
       "</ol>\n"
      ],
      "text/latex": [
       "\\begin{enumerate*}\n",
       "\\item 11\n",
       "\\item 4\n",
       "\\item 12\n",
       "\\item 20\n",
       "\\end{enumerate*}\n"
      ],
      "text/markdown": [
       "1. 11\n",
       "2. 4\n",
       "3. 12\n",
       "4. 20\n",
       "\n",
       "\n"
      ],
      "text/plain": [
       "[1] 11  4 12 20"
      ]
     },
     "metadata": {},
     "output_type": "display_data"
    },
    {
     "data": {
      "text/html": [
       "<ol class=list-inline>\n",
       "\t<li>1</li>\n",
       "\t<li>1</li>\n",
       "\t<li>1</li>\n",
       "\t<li>1.16666666666667</li>\n",
       "</ol>\n"
      ],
      "text/latex": [
       "\\begin{enumerate*}\n",
       "\\item 1\n",
       "\\item 1\n",
       "\\item 1\n",
       "\\item 1.16666666666667\n",
       "\\end{enumerate*}\n"
      ],
      "text/markdown": [
       "1. 1\n",
       "2. 1\n",
       "3. 1\n",
       "4. 1.16666666666667\n",
       "\n",
       "\n"
      ],
      "text/plain": [
       "[1] 1.000000 1.000000 1.000000 1.166667"
      ]
     },
     "metadata": {},
     "output_type": "display_data"
    },
    {
     "data": {
      "text/html": [
       "<ol class=list-inline>\n",
       "\t<li>0</li>\n",
       "\t<li>0</li>\n",
       "\t<li>1</li>\n",
       "\t<li>2</li>\n",
       "</ol>\n"
      ],
      "text/latex": [
       "\\begin{enumerate*}\n",
       "\\item 0\n",
       "\\item 0\n",
       "\\item 1\n",
       "\\item 2\n",
       "\\end{enumerate*}\n"
      ],
      "text/markdown": [
       "1. 0\n",
       "2. 0\n",
       "3. 1\n",
       "4. 2\n",
       "\n",
       "\n"
      ],
      "text/plain": [
       "[1] 0 0 1 2"
      ]
     },
     "metadata": {},
     "output_type": "display_data"
    }
   ],
   "source": [
    "# ejemplos \n",
    "# La multiplicacion, division y modulo/residuo se da elemento a elemento\n",
    "v <- c(1:4)\n",
    "u <- c(2,3,5,7)\n",
    "v * c(11,2,4,5)\n",
    "u / c(2,3,5,6)\n",
    "u %% c(2:5)"
   ]
  },
  {
   "cell_type": "code",
   "execution_count": 11,
   "metadata": {
    "collapsed": true
   },
   "outputs": [],
   "source": [
    "#ejemplos"
   ]
  },
  {
   "cell_type": "markdown",
   "metadata": {},
   "source": [
    "### Vectorización \n",
    "\n",
    "Una de las maneras más eficaces de  alcanzar una mejor velocidad en el código R es el uso de operaciones que están **vectorizadas **. Esto se traduce en que si una función se aplica a un vector en R, en realidad  se aplica individualmente a cada elemento de ese vector. Una interesante lectura de esto es [vectorization in R](http://www.noamross.net/blog/2014/4/16/vectorization-in-r--why.html).\n"
   ]
  },
  {
   "cell_type": "code",
   "execution_count": 12,
   "metadata": {
    "collapsed": true
   },
   "outputs": [],
   "source": [
    "# Ejemplos "
   ]
  },
  {
   "cell_type": "code",
   "execution_count": 13,
   "metadata": {
    "collapsed": true
   },
   "outputs": [],
   "source": [
    "# Ejemplos"
   ]
  },
  {
   "cell_type": "code",
   "execution_count": 14,
   "metadata": {
    "collapsed": true
   },
   "outputs": [],
   "source": [
    "# Ejemplos"
   ]
  },
  {
   "cell_type": "code",
   "execution_count": 15,
   "metadata": {
    "collapsed": true
   },
   "outputs": [],
   "source": [
    "#Ejemplos"
   ]
  },
  {
   "cell_type": "markdown",
   "metadata": {},
   "source": [
    "`NA`: Es una constante lógica de longitud 1, el cual contiene un indicador de valores *pérdidos*  que puede ser usado con coerción a otro tipo de vector, que  evaluado en una expresión produce `NA`. Hay constantes `NA_integer_, NA_real_, NA_complex_ y NA_character_ ` de otras estructuras que soportan *valores perdidos*. Todas estas constantes son palabras reservadas de R.\n",
    "\n",
    "`NULL`: representa el objeto nulo en R: es una palabra reservada. `NULL`` es a menudo devuelto por expresiones y funciones cuyos valores son indefinidos."
   ]
  },
  {
   "cell_type": "code",
   "execution_count": 16,
   "metadata": {
    "collapsed": true
   },
   "outputs": [],
   "source": [
    "# Ejemplos"
   ]
  },
  {
   "cell_type": "code",
   "execution_count": 17,
   "metadata": {
    "collapsed": true
   },
   "outputs": [],
   "source": [
    "# ejemplos"
   ]
  },
  {
   "cell_type": "code",
   "execution_count": 18,
   "metadata": {
    "collapsed": true
   },
   "outputs": [],
   "source": [
    "# ejemplos"
   ]
  },
  {
   "cell_type": "markdown",
   "metadata": {},
   "source": [
    "### Filtrado\n",
    "\n",
    "Una  característica que refleja la naturaleza de lenguaje funcional de R es el del  **filtrado**, que nos permite extraer elementos de un vector que satisfacen ciertas condiciones. \n",
    "\n",
    "El filtrado es una de las operaciones más comunes en R, y de uso importante en  análisis de datos que a menudo se centra en  datos que satisfagan ciertas  condiciones:"
   ]
  },
  {
   "cell_type": "code",
   "execution_count": 19,
   "metadata": {
    "collapsed": true
   },
   "outputs": [],
   "source": [
    "# Ejemplo"
   ]
  },
  {
   "cell_type": "code",
   "execution_count": 20,
   "metadata": {
    "collapsed": true
   },
   "outputs": [],
   "source": [
    "# Ejemplo"
   ]
  },
  {
   "cell_type": "markdown",
   "metadata": {},
   "source": [
    "## Data frames\n",
    "\n",
    "Un data frame  es la forma más común de almacenamiento de datos en R, y si se utiliza sistemáticamente en  el análisis de datos como se explica el artículo [datos ordenadados de Hadley Wickman](http://vita.had.co.nz/papers/tidy-data.pdf).\n",
    "\n",
    "Los data frame  son  una lista de vectores de la misma longitud,  que hace que sea una estructura de dos dimensiones,  que comparte propiedades tanto de las matrices y  de las listas. Esto significa que un data frames  tenga las funciones `names()`, `colnames()` y `rownames()`. La `length()` de una data frame  es la longitud de la lista subyacente y así es el mismo valor  que produce `ncol()`.  `nrow()` da el número de filas.\n",
    "\n",
    "Se puede tener parte   de un data frame como una estructura de una dimensión (que se comporta como una lista), o una estructura de dos dimensiones (que se comporta como una matriz).\n",
    "\n",
    "\n",
    "Se puede crear un data frame usando la función `data.frame()` de la siguiente manera:"
   ]
  },
  {
   "cell_type": "code",
   "execution_count": 21,
   "metadata": {
    "collapsed": false
   },
   "outputs": [
    {
     "name": "stdout",
     "output_type": "stream",
     "text": [
      "'data.frame':\t3 obs. of  2 variables:\n",
      " $ x: int  1 2 3\n",
      " $ y: Factor w/ 3 levels \"C\",\"Python\",\"R\": 2 3 1\n"
     ]
    }
   ],
   "source": [
    "help(data.frame)\n",
    "df <- data.frame(x = 1:3, y = c(\"Python\", \"R\", \"C\"))\n",
    "str(df)"
   ]
  },
  {
   "cell_type": "code",
   "execution_count": 22,
   "metadata": {
    "collapsed": false
   },
   "outputs": [
    {
     "name": "stdout",
     "output_type": "stream",
     "text": [
      "'data.frame':\t3 obs. of  2 variables:\n",
      " $ x: int  1 2 3\n",
      " $ y: chr  \"Python\" \"R\" \"C\"\n"
     ]
    }
   ],
   "source": [
    "df <- data.frame(\n",
    "  x = 1:3,\n",
    "  y = c(\"Python\", \"R\", \"C\"),\n",
    "  stringsAsFactors = FALSE)\n",
    "str(df)"
   ]
  },
  {
   "cell_type": "markdown",
   "metadata": {},
   "source": [
    "Debido a que un `data.frame` es una clase S3, su tipo refleja el vector subyacente utilizado para su construcción: **la lista**. Para comprobar si un objeto es un data.frame, usamos `class()` o una  prueba explícita con `is.data.frame()`:"
   ]
  },
  {
   "cell_type": "code",
   "execution_count": 23,
   "metadata": {
    "collapsed": false
   },
   "outputs": [
    {
     "data": {
      "text/html": [
       "'list'"
      ],
      "text/latex": [
       "'list'"
      ],
      "text/markdown": [
       "'list'"
      ],
      "text/plain": [
       "[1] \"list\""
      ]
     },
     "metadata": {},
     "output_type": "display_data"
    },
    {
     "data": {
      "text/html": [
       "'data.frame'"
      ],
      "text/latex": [
       "'data.frame'"
      ],
      "text/markdown": [
       "'data.frame'"
      ],
      "text/plain": [
       "[1] \"data.frame\""
      ]
     },
     "metadata": {},
     "output_type": "display_data"
    },
    {
     "data": {
      "text/html": [
       "TRUE"
      ],
      "text/latex": [
       "TRUE"
      ],
      "text/markdown": [
       "TRUE"
      ],
      "text/plain": [
       "[1] TRUE"
      ]
     },
     "metadata": {},
     "output_type": "display_data"
    }
   ],
   "source": [
    "typeof(df)\n",
    "class(df)\n",
    "is.data.frame(df)"
   ]
  },
  {
   "cell_type": "markdown",
   "metadata": {},
   "source": [
    "Puesto que un data frame es una lista de vectores, es posible para un data frame tener una columna que es una lista:\n"
   ]
  },
  {
   "cell_type": "code",
   "execution_count": 26,
   "metadata": {
    "collapsed": false
   },
   "outputs": [
    {
     "data": {
      "text/html": [
       "<table>\n",
       "<thead><tr><th scope=col>x</th><th scope=col>y</th></tr></thead>\n",
       "<tbody>\n",
       "\t<tr><td>1   </td><td>1, 2</td></tr>\n",
       "\t<tr><td>2      </td><td>1, 2, 3</td></tr>\n",
       "\t<tr><td>3         </td><td>1, 2, 3, 4</td></tr>\n",
       "</tbody>\n",
       "</table>\n"
      ],
      "text/latex": [
       "\\begin{tabular}{r|ll}\n",
       " x & y\\\\\n",
       "\\hline\n",
       "\t 1    & 1, 2\\\\\n",
       "\t 2       & 1, 2, 3\\\\\n",
       "\t 3          & 1, 2, 3, 4\\\\\n",
       "\\end{tabular}\n"
      ],
      "text/markdown": [
       "\n",
       "x | y | \n",
       "|---|---|---|\n",
       "| 1    | 1, 2 | \n",
       "| 2       | 1, 2, 3 | \n",
       "| 3          | 1, 2, 3, 4 | \n",
       "\n",
       "\n"
      ],
      "text/plain": [
       "  x y         \n",
       "1 1 1, 2      \n",
       "2 2 1, 2, 3   \n",
       "3 3 1, 2, 3, 4"
      ]
     },
     "metadata": {},
     "output_type": "display_data"
    }
   ],
   "source": [
    "df <- data.frame(x = 1:3)\n",
    "df$y <- list(1:2, 1:3, 1:4)\n",
    "df"
   ]
  },
  {
   "cell_type": "markdown",
   "metadata": {},
   "source": [
    "##  Estructuras de programación en R\n",
    "\n",
    "En R, al igual que en otros lenguajes , hay muchos casos en los que es posible que se  desee ejecutar código de forma condicional o ejecutar código similar repetidamente.\n",
    "\n",
    "La ejecución condicionada vectorizada a través de la función `ifelse` es también parte de R. Vamos a ver estas estructuras condicionales  así como los tres bucles más simples (`for`, `while` y `repeat`), que de nuevo deben ser razonablemente familiares de otros lenguajes. Debido a la naturaleza vectorizada de R y algunas alternativas más estéticas, estos bucles son menos utilizados en R de lo que se pueda  esperar."
   ]
  },
  {
   "cell_type": "markdown",
   "metadata": {},
   "source": [
    "###  Flujo de control\n",
    "\n",
    "Hay muchas ocasiones en las que no sólo se desea ejecutar una declaración tras otra: se necesita controlar el flujo de ejecución. Normalmente esto significa que sólo desea ejecutar algún código si se cumple una condición, para ello existen algunas formas de control, que pasamos a desarrollar:"
   ]
  },
  {
   "cell_type": "markdown",
   "metadata": {},
   "source": [
    "### if y else \n",
    "\n",
    "La forma más simple de control de flujo es la ejecución condicional usando `if`. `if` toma un valor lógico (más precisamente, un vector lógico de longitud uno) y ejecuta la siguiente instrucción sólo si ese valor es `TRUE`:"
   ]
  },
  {
   "cell_type": "code",
   "execution_count": 6,
   "metadata": {
    "collapsed": false
   },
   "outputs": [
    {
     "name": "stdout",
     "output_type": "stream",
     "text": [
      "[1] \"Impar\"\n"
     ]
    }
   ],
   "source": [
    "# Ejemplo\n",
    "x <- 5\n",
    "if(x %% 2 == 0){\n",
    "    print(\"Par\")\n",
    "} else{\n",
    "    print(\"Impar\")\n",
    "}"
   ]
  },
  {
   "cell_type": "markdown",
   "metadata": {},
   "source": [
    "###  Vectorizado if\n",
    "\n",
    "La instrucción estándar `if` toma un único valor lógico. Si pasas un vector lógico con una longitud de más de uno (!no lo hagas!), R te advertirá que has dado varias opciones y sólo se usará la primera:"
   ]
  },
  {
   "cell_type": "code",
   "execution_count": 1,
   "metadata": {
    "collapsed": false
   },
   "outputs": [
    {
     "name": "stderr",
     "output_type": "stream",
     "text": [
      "Warning message:\n",
      "In if (c(TRUE, FALSE)) message(\"dos opciones\"): the condition has length > 1 and only the first element will be useddos opciones\n"
     ]
    }
   ],
   "source": [
    "if(c(TRUE, FALSE)) message(\"dos opciones\")"
   ]
  },
  {
   "cell_type": "markdown",
   "metadata": {},
   "source": [
    "Dado que gran parte de R es vectorizada, también es vectorizado el control de flujo, en forma de la función `ifelse`. `ifelse` toma tres argumentos. El primero es un vector lógico de condiciones. El segundo contiene valores que se devuelven cuando el primer vector es `TRUE`. El tercero contiene valores que se devuelven cuando el primer vector es `FALSE`. En el siguiente ejemplo, `rbinom` genera números aleatorios de una distribución binomial para simular el lanzamiento de una  moneda :"
   ]
  },
  {
   "cell_type": "code",
   "execution_count": 30,
   "metadata": {
    "collapsed": true
   },
   "outputs": [],
   "source": [
    "# Ejemplos"
   ]
  },
  {
   "cell_type": "code",
   "execution_count": 31,
   "metadata": {
    "collapsed": true
   },
   "outputs": [],
   "source": [
    "# Ejemplos"
   ]
  },
  {
   "cell_type": "markdown",
   "metadata": {},
   "source": [
    "###  Bucles\n",
    "\n",
    "Hay tres tipos de bucles en R: `repeat`, `while`, y `for` y aunque la  vectorización  muestra que nos los necesita tanto en R como en otros lenguajes, todavía pueden ayudar en la ejecución repetida del código."
   ]
  },
  {
   "cell_type": "markdown",
   "metadata": {},
   "source": [
    "###  El bucle repeat\n",
    "\n",
    "El bucle más fácil de dominar en R es `repeat`. Todo lo que hace es ejecutar el mismo código una y otra vez hasta que le diga que se detenga.  En general, si queremos que nuestro código se complete antes del final del universo, es necesario incluir una sentencia `break`."
   ]
  },
  {
   "cell_type": "code",
   "execution_count": 32,
   "metadata": {
    "collapsed": true
   },
   "outputs": [],
   "source": [
    "# Ejemplo"
   ]
  },
  {
   "cell_type": "markdown",
   "metadata": {},
   "source": [
    "### Bucle while\n",
    "\n",
    "Los bucles `while` es el bucle `repeat` pero  hacia atrás. En lugar de ejecutar algún código y luego comprobar si el bucle debe terminar, verifica  primero el código  y luego (tal vez) se  ejecuta. Dado que la comprobación ocurre al principio, es posible que el contenido del bucle nunca se ejecute (a diferencia del bucle  `repeat`). El ejemplo siguiente se comporta de forma similar al ejemplo anterior con `repeat`:"
   ]
  },
  {
   "cell_type": "code",
   "execution_count": 33,
   "metadata": {
    "collapsed": true
   },
   "outputs": [],
   "source": [
    "# Ejemplo"
   ]
  },
  {
   "cell_type": "markdown",
   "metadata": {},
   "source": [
    "### Bucle for \n",
    "\n",
    "El tercer tipo de bucle se utiliza cuando se sabe exactamente cuántas veces desea que el código se repita. El bucle `for` acepta una variable de iteración y un vector.  La sintaxis  para el bucle `for` es \n",
    "\n",
    "```\n",
    "for (nombre in valores ) expresion\n",
    "```\n",
    "\n",
    "El bucle `for`, iteraciona a través de los componentes `nombre` de `valores` uno a la vez. `nombre` toma el valor de cada elemento sucesivo de `valores`, hasta que  se complete sus componentes. "
   ]
  },
  {
   "cell_type": "code",
   "execution_count": 34,
   "metadata": {
    "collapsed": true
   },
   "outputs": [],
   "source": [
    "# Ejemplos"
   ]
  },
  {
   "cell_type": "markdown",
   "metadata": {},
   "source": [
    "## Ejercicios de clases"
   ]
  },
  {
   "cell_type": "markdown",
   "metadata": {},
   "source": [
    "1 . La función `sd` calcula la desviación estándar. Cálcula la desvación estándar de los números del `0` al `100`."
   ]
  },
  {
   "cell_type": "code",
   "execution_count": 1,
   "metadata": {
    "collapsed": false
   },
   "outputs": [
    {
     "data": {
      "text/html": [
       "29.3001706479672"
      ],
      "text/latex": [
       "29.3001706479672"
      ],
      "text/markdown": [
       "29.3001706479672"
      ],
      "text/plain": [
       "[1] 29.30017"
      ]
     },
     "metadata": {},
     "output_type": "display_data"
    }
   ],
   "source": [
    "# solucion\n",
    "V <- c(0:100)\n",
    "ans <- sd(V)\n",
    "ans"
   ]
  },
  {
   "cell_type": "markdown",
   "metadata": {},
   "source": [
    "2 . Muestra la demostración de los símbolos matemáticos en los gráficos. Usa la función `demo(plotmath)`."
   ]
  },
  {
   "cell_type": "code",
   "execution_count": 36,
   "metadata": {
    "collapsed": true
   },
   "outputs": [],
   "source": [
    "# solucion"
   ]
  },
  {
   "cell_type": "markdown",
   "metadata": {},
   "source": [
    "3 . Calcula la tangente inversa de los recíprocos de todos los enteros desde el `1` al `1000`."
   ]
  },
  {
   "cell_type": "code",
   "execution_count": 37,
   "metadata": {
    "collapsed": true
   },
   "outputs": [],
   "source": [
    "# solucion\n",
    "V <- c(1:1000)\n",
    "ans <- atan(1/V)\n",
    "ans"
   ]
  },
  {
   "cell_type": "markdown",
   "metadata": {},
   "source": [
    "4 . Asigna los números del `1` al `1000` a la variable `x`. Calcula la inversa de la tangente de los recíprocos de `x` como en el ejercicio anterior. Ahora realiza el proceso inverso, calculando el recíprocos de la tangente de `y` y asignando a la variable `z`."
   ]
  },
  {
   "cell_type": "code",
   "execution_count": 38,
   "metadata": {
    "collapsed": true
   },
   "outputs": [],
   "source": [
    "# solucion\n",
    "x <- c(1:1000)\n",
    "temp <- atan(1/x)\n",
    "temp\n",
    "z <- 1/atan(x)"
   ]
  },
  {
   "cell_type": "markdown",
   "metadata": {},
   "source": [
    "5 .Compara los variables `x` y `z`, usando `==, identical` y `all.equal`."
   ]
  },
  {
   "cell_type": "code",
   "execution_count": 8,
   "metadata": {
    "collapsed": false
   },
   "outputs": [
    {
     "name": "stderr",
     "output_type": "stream",
     "text": [
      "Warning message:\n",
      "In if (x == z) {: the condition has length > 1 and only the first element will be used"
     ]
    },
    {
     "name": "stdout",
     "output_type": "stream",
     "text": [
      "[1] \"No son iguales\"\n",
      "[1] \"No son iguales\"\n"
     ]
    },
    {
     "data": {
      "text/html": [
       "'Mean relative difference: 0.9987223'"
      ],
      "text/latex": [
       "'Mean relative difference: 0.9987223'"
      ],
      "text/markdown": [
       "'Mean relative difference: 0.9987223'"
      ],
      "text/plain": [
       "[1] \"Mean relative difference: 0.9987223\""
      ]
     },
     "metadata": {},
     "output_type": "display_data"
    },
    {
     "data": {
      "text/html": [
       "TRUE"
      ],
      "text/latex": [
       "TRUE"
      ],
      "text/markdown": [
       "TRUE"
      ],
      "text/plain": [
       "[1] TRUE"
      ]
     },
     "metadata": {},
     "output_type": "display_data"
    },
    {
     "name": "stdout",
     "output_type": "stream",
     "text": [
      "[1] \"No son iguales\"\n"
     ]
    }
   ],
   "source": [
    "# Solucion\n",
    "x <- c(1:1000)\n",
    "temp <- atan(1/x)\n",
    "z <- 1/atan(x)\n",
    "if(x == z){\n",
    "    print(\"Son iguales\")\n",
    "} else{\n",
    "    print(\"No son iguales\")\n",
    "}\n",
    "if(identical(x,z)){ # Compara los valores y su igualdad exacta\n",
    "    print(\"Son iguales\")\n",
    "} else{\n",
    "    print(\"No son iguales\")\n",
    "}\n",
    "veredicto <- all.equal(x,z) # Puede devolver una cadena con las diferencias o TRUE si son iguales en el margen de la tolerancia aceptada\n",
    "veredicto\n",
    "if(veredicto == TRUE){\n",
    "    print(\"Son iguales\")\n",
    "} else{\n",
    "    print(\"No son iguales\")\n",
    "}"
   ]
  },
  {
   "cell_type": "markdown",
   "metadata": {},
   "source": [
    "6 .Encuentra la clase, tipo, modo, y modo de almacenamiento de los siguientes  valores: `Inf, NA, NaN, \"\"`."
   ]
  },
  {
   "cell_type": "code",
   "execution_count": 1,
   "metadata": {
    "collapsed": false
   },
   "outputs": [
    {
     "data": {
      "text/html": [
       "'numeric'"
      ],
      "text/latex": [
       "'numeric'"
      ],
      "text/markdown": [
       "'numeric'"
      ],
      "text/plain": [
       "[1] \"numeric\""
      ]
     },
     "metadata": {},
     "output_type": "display_data"
    },
    {
     "data": {
      "text/html": [
       "'double'"
      ],
      "text/latex": [
       "'double'"
      ],
      "text/markdown": [
       "'double'"
      ],
      "text/plain": [
       "[1] \"double\""
      ]
     },
     "metadata": {},
     "output_type": "display_data"
    },
    {
     "data": {
      "text/html": [
       "'logical'"
      ],
      "text/latex": [
       "'logical'"
      ],
      "text/markdown": [
       "'logical'"
      ],
      "text/plain": [
       "[1] \"logical\""
      ]
     },
     "metadata": {},
     "output_type": "display_data"
    },
    {
     "data": {
      "text/html": [
       "'logical'"
      ],
      "text/latex": [
       "'logical'"
      ],
      "text/markdown": [
       "'logical'"
      ],
      "text/plain": [
       "[1] \"logical\""
      ]
     },
     "metadata": {},
     "output_type": "display_data"
    },
    {
     "data": {
      "text/html": [
       "'numeric'"
      ],
      "text/latex": [
       "'numeric'"
      ],
      "text/markdown": [
       "'numeric'"
      ],
      "text/plain": [
       "[1] \"numeric\""
      ]
     },
     "metadata": {},
     "output_type": "display_data"
    },
    {
     "data": {
      "text/html": [
       "'double'"
      ],
      "text/latex": [
       "'double'"
      ],
      "text/markdown": [
       "'double'"
      ],
      "text/plain": [
       "[1] \"double\""
      ]
     },
     "metadata": {},
     "output_type": "display_data"
    },
    {
     "data": {
      "text/html": [
       "'character'"
      ],
      "text/latex": [
       "'character'"
      ],
      "text/markdown": [
       "'character'"
      ],
      "text/plain": [
       "[1] \"character\""
      ]
     },
     "metadata": {},
     "output_type": "display_data"
    },
    {
     "data": {
      "text/html": [
       "'character'"
      ],
      "text/latex": [
       "'character'"
      ],
      "text/markdown": [
       "'character'"
      ],
      "text/plain": [
       "[1] \"character\""
      ]
     },
     "metadata": {},
     "output_type": "display_data"
    }
   ],
   "source": [
    "# solucion\n",
    "class(Inf)\n",
    "typeof(Inf)\n",
    "class(NA)\n",
    "typeof(NA)\n",
    "class(NaN)\n",
    "typeof(NaN)\n",
    "class(\"\")\n",
    "typeof(\"\")"
   ]
  },
  {
   "cell_type": "markdown",
   "metadata": {},
   "source": [
    "7 .El n-ésimo número triangular es dado por `n(n -1)/2`. Crea una secuencia de los primero `20` número triangulares. Nombra los elementos del vector que tus has creado con `20` letras del alfabeto. Selecciona los números triángulares donde el nombre es una vocal. Usa la función `letter()` de R."
   ]
  },
  {
   "cell_type": "code",
   "execution_count": 3,
   "metadata": {
    "collapsed": false
   },
   "outputs": [
    {
     "data": {
      "text/html": [
       "<dl class=dl-horizontal>\n",
       "\t<dt>e</dt>\n",
       "\t\t<dd>272</dd>\n",
       "\t<dt>i</dt>\n",
       "\t\t<dd>240</dd>\n",
       "\t<dt>o</dt>\n",
       "\t\t<dd>90</dd>\n",
       "\t<dt>u</dt>\n",
       "\t\t<dd>30</dd>\n",
       "</dl>\n"
      ],
      "text/latex": [
       "\\begin{description*}\n",
       "\\item[e] 272\n",
       "\\item[i] 240\n",
       "\\item[o] 90\n",
       "\\item[u] 30\n",
       "\\end{description*}\n"
      ],
      "text/markdown": [
       "e\n",
       ":   272i\n",
       ":   240o\n",
       ":   90u\n",
       ":   30\n",
       "\n"
      ],
      "text/plain": [
       "  e   i   o   u \n",
       "272 240  90  30 "
      ]
     },
     "metadata": {},
     "output_type": "display_data"
    }
   ],
   "source": [
    "# solucion\n",
    "x <- mapply(function(x){return (x*(x-1))/2},c(1:20))\n",
    "letras <- sample(letters,20,replace=F)\n",
    "names(x) <- letras\n",
    "vocales <- c('a','e','i','o','u')\n",
    "x[intersect(vocales,names(x))]"
   ]
  },
  {
   "cell_type": "markdown",
   "metadata": {},
   "source": [
    "8 .La función `diag` tiene varios usos, uno de los cuales es tomar un vector como entrada y crea una matriz cuadrada con ese vector en la diagonal. Crear una matriz  `21x21` con la secuencia de `10` a `0` a `11`."
   ]
  },
  {
   "cell_type": "code",
   "execution_count": 42,
   "metadata": {
    "collapsed": true
   },
   "outputs": [],
   "source": [
    "# solucion\n",
    "v <- c(10:0,1:11)\n",
    "diag(v)"
   ]
  },
  {
   "cell_type": "markdown",
   "metadata": {},
   "source": [
    "9 .Al pasar dos argumentos adicionales a `diag`,  se puede especificar las dimensiones de la salida. Crea una matriz de `20x21` con unos en la diagonal principal. Ahora agrega una fila de ceros por encima de esta para crear una matriz cuadrada  `21 x21`, donde los unos se desplazan una fila debajo de la diagonal principal."
   ]
  },
  {
   "cell_type": "code",
   "execution_count": 4,
   "metadata": {
    "collapsed": false
   },
   "outputs": [
    {
     "data": {
      "text/html": [
       "<table>\n",
       "<tbody>\n",
       "\t<tr><td>0</td><td>0</td><td>0</td><td>0</td><td>0</td><td>0</td><td>0</td><td>0</td><td>0</td><td>0</td><td>⋯</td><td>0</td><td>0</td><td>0</td><td>0</td><td>0</td><td>0</td><td>0</td><td>0</td><td>0</td><td>0</td></tr>\n",
       "\t<tr><td>1</td><td>0</td><td>0</td><td>0</td><td>0</td><td>0</td><td>0</td><td>0</td><td>0</td><td>0</td><td>⋯</td><td>0</td><td>0</td><td>0</td><td>0</td><td>0</td><td>0</td><td>0</td><td>0</td><td>0</td><td>0</td></tr>\n",
       "\t<tr><td>0</td><td>1</td><td>0</td><td>0</td><td>0</td><td>0</td><td>0</td><td>0</td><td>0</td><td>0</td><td>⋯</td><td>0</td><td>0</td><td>0</td><td>0</td><td>0</td><td>0</td><td>0</td><td>0</td><td>0</td><td>0</td></tr>\n",
       "\t<tr><td>0</td><td>0</td><td>1</td><td>0</td><td>0</td><td>0</td><td>0</td><td>0</td><td>0</td><td>0</td><td>⋯</td><td>0</td><td>0</td><td>0</td><td>0</td><td>0</td><td>0</td><td>0</td><td>0</td><td>0</td><td>0</td></tr>\n",
       "\t<tr><td>0</td><td>0</td><td>0</td><td>1</td><td>0</td><td>0</td><td>0</td><td>0</td><td>0</td><td>0</td><td>⋯</td><td>0</td><td>0</td><td>0</td><td>0</td><td>0</td><td>0</td><td>0</td><td>0</td><td>0</td><td>0</td></tr>\n",
       "\t<tr><td>0</td><td>0</td><td>0</td><td>0</td><td>1</td><td>0</td><td>0</td><td>0</td><td>0</td><td>0</td><td>⋯</td><td>0</td><td>0</td><td>0</td><td>0</td><td>0</td><td>0</td><td>0</td><td>0</td><td>0</td><td>0</td></tr>\n",
       "\t<tr><td>0</td><td>0</td><td>0</td><td>0</td><td>0</td><td>1</td><td>0</td><td>0</td><td>0</td><td>0</td><td>⋯</td><td>0</td><td>0</td><td>0</td><td>0</td><td>0</td><td>0</td><td>0</td><td>0</td><td>0</td><td>0</td></tr>\n",
       "\t<tr><td>0</td><td>0</td><td>0</td><td>0</td><td>0</td><td>0</td><td>1</td><td>0</td><td>0</td><td>0</td><td>⋯</td><td>0</td><td>0</td><td>0</td><td>0</td><td>0</td><td>0</td><td>0</td><td>0</td><td>0</td><td>0</td></tr>\n",
       "\t<tr><td>0</td><td>0</td><td>0</td><td>0</td><td>0</td><td>0</td><td>0</td><td>1</td><td>0</td><td>0</td><td>⋯</td><td>0</td><td>0</td><td>0</td><td>0</td><td>0</td><td>0</td><td>0</td><td>0</td><td>0</td><td>0</td></tr>\n",
       "\t<tr><td>0</td><td>0</td><td>0</td><td>0</td><td>0</td><td>0</td><td>0</td><td>0</td><td>1</td><td>0</td><td>⋯</td><td>0</td><td>0</td><td>0</td><td>0</td><td>0</td><td>0</td><td>0</td><td>0</td><td>0</td><td>0</td></tr>\n",
       "\t<tr><td>0</td><td>0</td><td>0</td><td>0</td><td>0</td><td>0</td><td>0</td><td>0</td><td>0</td><td>1</td><td>⋯</td><td>0</td><td>0</td><td>0</td><td>0</td><td>0</td><td>0</td><td>0</td><td>0</td><td>0</td><td>0</td></tr>\n",
       "\t<tr><td>0</td><td>0</td><td>0</td><td>0</td><td>0</td><td>0</td><td>0</td><td>0</td><td>0</td><td>0</td><td>⋯</td><td>0</td><td>0</td><td>0</td><td>0</td><td>0</td><td>0</td><td>0</td><td>0</td><td>0</td><td>0</td></tr>\n",
       "\t<tr><td>0</td><td>0</td><td>0</td><td>0</td><td>0</td><td>0</td><td>0</td><td>0</td><td>0</td><td>0</td><td>⋯</td><td>1</td><td>0</td><td>0</td><td>0</td><td>0</td><td>0</td><td>0</td><td>0</td><td>0</td><td>0</td></tr>\n",
       "\t<tr><td>0</td><td>0</td><td>0</td><td>0</td><td>0</td><td>0</td><td>0</td><td>0</td><td>0</td><td>0</td><td>⋯</td><td>0</td><td>1</td><td>0</td><td>0</td><td>0</td><td>0</td><td>0</td><td>0</td><td>0</td><td>0</td></tr>\n",
       "\t<tr><td>0</td><td>0</td><td>0</td><td>0</td><td>0</td><td>0</td><td>0</td><td>0</td><td>0</td><td>0</td><td>⋯</td><td>0</td><td>0</td><td>1</td><td>0</td><td>0</td><td>0</td><td>0</td><td>0</td><td>0</td><td>0</td></tr>\n",
       "\t<tr><td>0</td><td>0</td><td>0</td><td>0</td><td>0</td><td>0</td><td>0</td><td>0</td><td>0</td><td>0</td><td>⋯</td><td>0</td><td>0</td><td>0</td><td>1</td><td>0</td><td>0</td><td>0</td><td>0</td><td>0</td><td>0</td></tr>\n",
       "\t<tr><td>0</td><td>0</td><td>0</td><td>0</td><td>0</td><td>0</td><td>0</td><td>0</td><td>0</td><td>0</td><td>⋯</td><td>0</td><td>0</td><td>0</td><td>0</td><td>1</td><td>0</td><td>0</td><td>0</td><td>0</td><td>0</td></tr>\n",
       "\t<tr><td>0</td><td>0</td><td>0</td><td>0</td><td>0</td><td>0</td><td>0</td><td>0</td><td>0</td><td>0</td><td>⋯</td><td>0</td><td>0</td><td>0</td><td>0</td><td>0</td><td>1</td><td>0</td><td>0</td><td>0</td><td>0</td></tr>\n",
       "\t<tr><td>0</td><td>0</td><td>0</td><td>0</td><td>0</td><td>0</td><td>0</td><td>0</td><td>0</td><td>0</td><td>⋯</td><td>0</td><td>0</td><td>0</td><td>0</td><td>0</td><td>0</td><td>1</td><td>0</td><td>0</td><td>0</td></tr>\n",
       "\t<tr><td>0</td><td>0</td><td>0</td><td>0</td><td>0</td><td>0</td><td>0</td><td>0</td><td>0</td><td>0</td><td>⋯</td><td>0</td><td>0</td><td>0</td><td>0</td><td>0</td><td>0</td><td>0</td><td>1</td><td>0</td><td>0</td></tr>\n",
       "\t<tr><td>0</td><td>0</td><td>0</td><td>0</td><td>0</td><td>0</td><td>0</td><td>0</td><td>0</td><td>0</td><td>⋯</td><td>0</td><td>0</td><td>0</td><td>0</td><td>0</td><td>0</td><td>0</td><td>0</td><td>1</td><td>0</td></tr>\n",
       "</tbody>\n",
       "</table>\n"
      ],
      "text/latex": [
       "\\begin{tabular}{lllllllllllllllllllll}\n",
       "\t 0 & 0 & 0 & 0 & 0 & 0 & 0 & 0 & 0 & 0 & ⋯ & 0 & 0 & 0 & 0 & 0 & 0 & 0 & 0 & 0 & 0\\\\\n",
       "\t 1 & 0 & 0 & 0 & 0 & 0 & 0 & 0 & 0 & 0 & ⋯ & 0 & 0 & 0 & 0 & 0 & 0 & 0 & 0 & 0 & 0\\\\\n",
       "\t 0 & 1 & 0 & 0 & 0 & 0 & 0 & 0 & 0 & 0 & ⋯ & 0 & 0 & 0 & 0 & 0 & 0 & 0 & 0 & 0 & 0\\\\\n",
       "\t 0 & 0 & 1 & 0 & 0 & 0 & 0 & 0 & 0 & 0 & ⋯ & 0 & 0 & 0 & 0 & 0 & 0 & 0 & 0 & 0 & 0\\\\\n",
       "\t 0 & 0 & 0 & 1 & 0 & 0 & 0 & 0 & 0 & 0 & ⋯ & 0 & 0 & 0 & 0 & 0 & 0 & 0 & 0 & 0 & 0\\\\\n",
       "\t 0 & 0 & 0 & 0 & 1 & 0 & 0 & 0 & 0 & 0 & ⋯ & 0 & 0 & 0 & 0 & 0 & 0 & 0 & 0 & 0 & 0\\\\\n",
       "\t 0 & 0 & 0 & 0 & 0 & 1 & 0 & 0 & 0 & 0 & ⋯ & 0 & 0 & 0 & 0 & 0 & 0 & 0 & 0 & 0 & 0\\\\\n",
       "\t 0 & 0 & 0 & 0 & 0 & 0 & 1 & 0 & 0 & 0 & ⋯ & 0 & 0 & 0 & 0 & 0 & 0 & 0 & 0 & 0 & 0\\\\\n",
       "\t 0 & 0 & 0 & 0 & 0 & 0 & 0 & 1 & 0 & 0 & ⋯ & 0 & 0 & 0 & 0 & 0 & 0 & 0 & 0 & 0 & 0\\\\\n",
       "\t 0 & 0 & 0 & 0 & 0 & 0 & 0 & 0 & 1 & 0 & ⋯ & 0 & 0 & 0 & 0 & 0 & 0 & 0 & 0 & 0 & 0\\\\\n",
       "\t 0 & 0 & 0 & 0 & 0 & 0 & 0 & 0 & 0 & 1 & ⋯ & 0 & 0 & 0 & 0 & 0 & 0 & 0 & 0 & 0 & 0\\\\\n",
       "\t 0 & 0 & 0 & 0 & 0 & 0 & 0 & 0 & 0 & 0 & ⋯ & 0 & 0 & 0 & 0 & 0 & 0 & 0 & 0 & 0 & 0\\\\\n",
       "\t 0 & 0 & 0 & 0 & 0 & 0 & 0 & 0 & 0 & 0 & ⋯ & 1 & 0 & 0 & 0 & 0 & 0 & 0 & 0 & 0 & 0\\\\\n",
       "\t 0 & 0 & 0 & 0 & 0 & 0 & 0 & 0 & 0 & 0 & ⋯ & 0 & 1 & 0 & 0 & 0 & 0 & 0 & 0 & 0 & 0\\\\\n",
       "\t 0 & 0 & 0 & 0 & 0 & 0 & 0 & 0 & 0 & 0 & ⋯ & 0 & 0 & 1 & 0 & 0 & 0 & 0 & 0 & 0 & 0\\\\\n",
       "\t 0 & 0 & 0 & 0 & 0 & 0 & 0 & 0 & 0 & 0 & ⋯ & 0 & 0 & 0 & 1 & 0 & 0 & 0 & 0 & 0 & 0\\\\\n",
       "\t 0 & 0 & 0 & 0 & 0 & 0 & 0 & 0 & 0 & 0 & ⋯ & 0 & 0 & 0 & 0 & 1 & 0 & 0 & 0 & 0 & 0\\\\\n",
       "\t 0 & 0 & 0 & 0 & 0 & 0 & 0 & 0 & 0 & 0 & ⋯ & 0 & 0 & 0 & 0 & 0 & 1 & 0 & 0 & 0 & 0\\\\\n",
       "\t 0 & 0 & 0 & 0 & 0 & 0 & 0 & 0 & 0 & 0 & ⋯ & 0 & 0 & 0 & 0 & 0 & 0 & 1 & 0 & 0 & 0\\\\\n",
       "\t 0 & 0 & 0 & 0 & 0 & 0 & 0 & 0 & 0 & 0 & ⋯ & 0 & 0 & 0 & 0 & 0 & 0 & 0 & 1 & 0 & 0\\\\\n",
       "\t 0 & 0 & 0 & 0 & 0 & 0 & 0 & 0 & 0 & 0 & ⋯ & 0 & 0 & 0 & 0 & 0 & 0 & 0 & 0 & 1 & 0\\\\\n",
       "\\end{tabular}\n"
      ],
      "text/markdown": [
       "1. 0\n",
       "2. 1\n",
       "3. 0\n",
       "4. 0\n",
       "5. 0\n",
       "6. 0\n",
       "7. 0\n",
       "8. 0\n",
       "9. 0\n",
       "10. 0\n",
       "11. 0\n",
       "12. 0\n",
       "13. 0\n",
       "14. 0\n",
       "15. 0\n",
       "16. 0\n",
       "17. 0\n",
       "18. 0\n",
       "19. 0\n",
       "20. 0\n",
       "21. 0\n",
       "22. 0\n",
       "23. 0\n",
       "24. 1\n",
       "25. 0\n",
       "26. 0\n",
       "27. 0\n",
       "28. 0\n",
       "29. 0\n",
       "30. 0\n",
       "31. 0\n",
       "32. 0\n",
       "33. 0\n",
       "34. 0\n",
       "35. 0\n",
       "36. 0\n",
       "37. 0\n",
       "38. 0\n",
       "39. 0\n",
       "40. 0\n",
       "41. 0\n",
       "42. 0\n",
       "43. 0\n",
       "44. 0\n",
       "45. 0\n",
       "46. 1\n",
       "47. 0\n",
       "48. 0\n",
       "49. 0\n",
       "50. 0\n",
       "51. 0\n",
       "52. 0\n",
       "53. 0\n",
       "54. 0\n",
       "55. 0\n",
       "56. 0\n",
       "57. 0\n",
       "58. 0\n",
       "59. 0\n",
       "60. 0\n",
       "61. 0\n",
       "62. 0\n",
       "63. 0\n",
       "64. 0\n",
       "65. 0\n",
       "66. 0\n",
       "67. 0\n",
       "68. 1\n",
       "69. 0\n",
       "70. 0\n",
       "71. 0\n",
       "72. 0\n",
       "73. 0\n",
       "74. 0\n",
       "75. 0\n",
       "76. 0\n",
       "77. 0\n",
       "78. 0\n",
       "79. 0\n",
       "80. 0\n",
       "81. 0\n",
       "82. 0\n",
       "83. 0\n",
       "84. 0\n",
       "85. 0\n",
       "86. 0\n",
       "87. 0\n",
       "88. 0\n",
       "89. 0\n",
       "90. 1\n",
       "91. 0\n",
       "92. 0\n",
       "93. 0\n",
       "94. 0\n",
       "95. 0\n",
       "96. 0\n",
       "97. 0\n",
       "98. 0\n",
       "99. 0\n",
       "100. 0\n",
       "101. 0\n",
       "102. 0\n",
       "103. 0\n",
       "104. 0\n",
       "105. 0\n",
       "106. 0\n",
       "107. 0\n",
       "108. 0\n",
       "109. 0\n",
       "110. 0\n",
       "111. 0\n",
       "112. 1\n",
       "113. 0\n",
       "114. 0\n",
       "115. 0\n",
       "116. 0\n",
       "117. 0\n",
       "118. 0\n",
       "119. 0\n",
       "120. 0\n",
       "121. 0\n",
       "122. 0\n",
       "123. 0\n",
       "124. 0\n",
       "125. 0\n",
       "126. 0\n",
       "127. 0\n",
       "128. 0\n",
       "129. 0\n",
       "130. 0\n",
       "131. 0\n",
       "132. 0\n",
       "133. 0\n",
       "134. 1\n",
       "135. 0\n",
       "136. 0\n",
       "137. 0\n",
       "138. 0\n",
       "139. 0\n",
       "140. 0\n",
       "141. 0\n",
       "142. 0\n",
       "143. 0\n",
       "144. 0\n",
       "145. 0\n",
       "146. 0\n",
       "147. 0\n",
       "148. 0\n",
       "149. 0\n",
       "150. 0\n",
       "151. 0\n",
       "152. 0\n",
       "153. 0\n",
       "154. 0\n",
       "155. 0\n",
       "156. 1\n",
       "157. 0\n",
       "158. 0\n",
       "159. 0\n",
       "160. 0\n",
       "161. 0\n",
       "162. 0\n",
       "163. 0\n",
       "164. 0\n",
       "165. 0\n",
       "166. 0\n",
       "167. 0\n",
       "168. 0\n",
       "169. 0\n",
       "170. 0\n",
       "171. 0\n",
       "172. 0\n",
       "173. 0\n",
       "174. 0\n",
       "175. 0\n",
       "176. 0\n",
       "177. 0\n",
       "178. 1\n",
       "179. 0\n",
       "180. 0\n",
       "181. 0\n",
       "182. 0\n",
       "183. 0\n",
       "184. 0\n",
       "185. 0\n",
       "186. 0\n",
       "187. 0\n",
       "188. 0\n",
       "189. 0\n",
       "190. 0\n",
       "191. 0\n",
       "192. 0\n",
       "193. 0\n",
       "194. 0\n",
       "195. 0\n",
       "196. 0\n",
       "197. 0\n",
       "198. 0\n",
       "199. 0\n",
       "200. 1\n",
       "201. 0\n",
       "202. 0\n",
       "203. 0\n",
       "204. 0\n",
       "205. 0\n",
       "206. 0\n",
       "207. 0\n",
       "208. 0\n",
       "209. 0\n",
       "210. 0\n",
       "211. 0\n",
       "212. 0\n",
       "213. 0\n",
       "214. 0\n",
       "215. 0\n",
       "216. 0\n",
       "217. 0\n",
       "218. 0\n",
       "219. 0\n",
       "220. 0\n",
       "221. 0\n",
       "222. 1\n",
       "223. 0\n",
       "224. 0\n",
       "225. 0\n",
       "226. 0\n",
       "227. 0\n",
       "228. 0\n",
       "229. 0\n",
       "230. 0\n",
       "231. 0\n",
       "232. 0\n",
       "233. 0\n",
       "234. 0\n",
       "235. 0\n",
       "236. 0\n",
       "237. 0\n",
       "238. 0\n",
       "239. 0\n",
       "240. 0\n",
       "241. 0\n",
       "242. 0\n",
       "243. 0\n",
       "244. 1\n",
       "245. 0\n",
       "246. 0\n",
       "247. 0\n",
       "248. 0\n",
       "249. 0\n",
       "250. 0\n",
       "251. 0\n",
       "252. 0\n",
       "253. 0\n",
       "254. 0\n",
       "255. 0\n",
       "256. 0\n",
       "257. 0\n",
       "258. 0\n",
       "259. 0\n",
       "260. 0\n",
       "261. 0\n",
       "262. 0\n",
       "263. 0\n",
       "264. 0\n",
       "265. 0\n",
       "266. 1\n",
       "267. 0\n",
       "268. 0\n",
       "269. 0\n",
       "270. 0\n",
       "271. 0\n",
       "272. 0\n",
       "273. 0\n",
       "274. 0\n",
       "275. 0\n",
       "276. 0\n",
       "277. 0\n",
       "278. 0\n",
       "279. 0\n",
       "280. 0\n",
       "281. 0\n",
       "282. 0\n",
       "283. 0\n",
       "284. 0\n",
       "285. 0\n",
       "286. 0\n",
       "287. 0\n",
       "288. 1\n",
       "289. 0\n",
       "290. 0\n",
       "291. 0\n",
       "292. 0\n",
       "293. 0\n",
       "294. 0\n",
       "295. 0\n",
       "296. 0\n",
       "297. 0\n",
       "298. 0\n",
       "299. 0\n",
       "300. 0\n",
       "301. 0\n",
       "302. 0\n",
       "303. 0\n",
       "304. 0\n",
       "305. 0\n",
       "306. 0\n",
       "307. 0\n",
       "308. 0\n",
       "309. 0\n",
       "310. 1\n",
       "311. 0\n",
       "312. 0\n",
       "313. 0\n",
       "314. 0\n",
       "315. 0\n",
       "316. 0\n",
       "317. 0\n",
       "318. 0\n",
       "319. 0\n",
       "320. 0\n",
       "321. 0\n",
       "322. 0\n",
       "323. 0\n",
       "324. 0\n",
       "325. 0\n",
       "326. 0\n",
       "327. 0\n",
       "328. 0\n",
       "329. 0\n",
       "330. 0\n",
       "331. 0\n",
       "332. 1\n",
       "333. 0\n",
       "334. 0\n",
       "335. 0\n",
       "336. 0\n",
       "337. 0\n",
       "338. 0\n",
       "339. 0\n",
       "340. 0\n",
       "341. 0\n",
       "342. 0\n",
       "343. 0\n",
       "344. 0\n",
       "345. 0\n",
       "346. 0\n",
       "347. 0\n",
       "348. 0\n",
       "349. 0\n",
       "350. 0\n",
       "351. 0\n",
       "352. 0\n",
       "353. 0\n",
       "354. 1\n",
       "355. 0\n",
       "356. 0\n",
       "357. 0\n",
       "358. 0\n",
       "359. 0\n",
       "360. 0\n",
       "361. 0\n",
       "362. 0\n",
       "363. 0\n",
       "364. 0\n",
       "365. 0\n",
       "366. 0\n",
       "367. 0\n",
       "368. 0\n",
       "369. 0\n",
       "370. 0\n",
       "371. 0\n",
       "372. 0\n",
       "373. 0\n",
       "374. 0\n",
       "375. 0\n",
       "376. 1\n",
       "377. 0\n",
       "378. 0\n",
       "379. 0\n",
       "380. 0\n",
       "381. 0\n",
       "382. 0\n",
       "383. 0\n",
       "384. 0\n",
       "385. 0\n",
       "386. 0\n",
       "387. 0\n",
       "388. 0\n",
       "389. 0\n",
       "390. 0\n",
       "391. 0\n",
       "392. 0\n",
       "393. 0\n",
       "394. 0\n",
       "395. 0\n",
       "396. 0\n",
       "397. 0\n",
       "398. 1\n",
       "399. 0\n",
       "400. 0\n",
       "401. 0\n",
       "402. 0\n",
       "403. 0\n",
       "404. 0\n",
       "405. 0\n",
       "406. 0\n",
       "407. 0\n",
       "408. 0\n",
       "409. 0\n",
       "410. 0\n",
       "411. 0\n",
       "412. 0\n",
       "413. 0\n",
       "414. 0\n",
       "415. 0\n",
       "416. 0\n",
       "417. 0\n",
       "418. 0\n",
       "419. 0\n",
       "420. 1\n",
       "421. 0\n",
       "422. 0\n",
       "423. 0\n",
       "424. 0\n",
       "425. 0\n",
       "426. 0\n",
       "427. 0\n",
       "428. 0\n",
       "429. 0\n",
       "430. 0\n",
       "431. 0\n",
       "432. 0\n",
       "433. 0\n",
       "434. 0\n",
       "435. 0\n",
       "436. 0\n",
       "437. 0\n",
       "438. 0\n",
       "439. 0\n",
       "440. 0\n",
       "441. 0\n",
       "\n",
       "\n"
      ],
      "text/plain": [
       "      [,1] [,2] [,3] [,4] [,5] [,6] [,7] [,8] [,9] [,10] [,11] [,12] [,13]\n",
       " [1,] \"0\"  \"0\"  \"0\"  \"0\"  \"0\"  \"0\"  \"0\"  \"0\"  \"0\"  \"0\"   \"⋯\"   \"0\"   \"0\"  \n",
       " [2,] \"1\"  \"0\"  \"0\"  \"0\"  \"0\"  \"0\"  \"0\"  \"0\"  \"0\"  \"0\"   \"⋯\"   \"0\"   \"0\"  \n",
       " [3,] \"0\"  \"1\"  \"0\"  \"0\"  \"0\"  \"0\"  \"0\"  \"0\"  \"0\"  \"0\"   \"⋯\"   \"0\"   \"0\"  \n",
       " [4,] \"0\"  \"0\"  \"1\"  \"0\"  \"0\"  \"0\"  \"0\"  \"0\"  \"0\"  \"0\"   \"⋯\"   \"0\"   \"0\"  \n",
       " [5,] \"0\"  \"0\"  \"0\"  \"1\"  \"0\"  \"0\"  \"0\"  \"0\"  \"0\"  \"0\"   \"⋯\"   \"0\"   \"0\"  \n",
       " [6,] \"0\"  \"0\"  \"0\"  \"0\"  \"1\"  \"0\"  \"0\"  \"0\"  \"0\"  \"0\"   \"⋯\"   \"0\"   \"0\"  \n",
       " [7,] \"0\"  \"0\"  \"0\"  \"0\"  \"0\"  \"1\"  \"0\"  \"0\"  \"0\"  \"0\"   \"⋯\"   \"0\"   \"0\"  \n",
       " [8,] \"0\"  \"0\"  \"0\"  \"0\"  \"0\"  \"0\"  \"1\"  \"0\"  \"0\"  \"0\"   \"⋯\"   \"0\"   \"0\"  \n",
       " [9,] \"0\"  \"0\"  \"0\"  \"0\"  \"0\"  \"0\"  \"0\"  \"1\"  \"0\"  \"0\"   \"⋯\"   \"0\"   \"0\"  \n",
       "[10,] \"0\"  \"0\"  \"0\"  \"0\"  \"0\"  \"0\"  \"0\"  \"0\"  \"1\"  \"0\"   \"⋯\"   \"0\"   \"0\"  \n",
       "[11,] \"0\"  \"0\"  \"0\"  \"0\"  \"0\"  \"0\"  \"0\"  \"0\"  \"0\"  \"1\"   \"⋯\"   \"0\"   \"0\"  \n",
       "[12,] \"0\"  \"0\"  \"0\"  \"0\"  \"0\"  \"0\"  \"0\"  \"0\"  \"0\"  \"0\"   \"⋯\"   \"0\"   \"0\"  \n",
       "[13,] \"0\"  \"0\"  \"0\"  \"0\"  \"0\"  \"0\"  \"0\"  \"0\"  \"0\"  \"0\"   \"⋯\"   \"1\"   \"0\"  \n",
       "[14,] \"0\"  \"0\"  \"0\"  \"0\"  \"0\"  \"0\"  \"0\"  \"0\"  \"0\"  \"0\"   \"⋯\"   \"0\"   \"1\"  \n",
       "[15,] \"0\"  \"0\"  \"0\"  \"0\"  \"0\"  \"0\"  \"0\"  \"0\"  \"0\"  \"0\"   \"⋯\"   \"0\"   \"0\"  \n",
       "[16,] \"0\"  \"0\"  \"0\"  \"0\"  \"0\"  \"0\"  \"0\"  \"0\"  \"0\"  \"0\"   \"⋯\"   \"0\"   \"0\"  \n",
       "[17,] \"0\"  \"0\"  \"0\"  \"0\"  \"0\"  \"0\"  \"0\"  \"0\"  \"0\"  \"0\"   \"⋯\"   \"0\"   \"0\"  \n",
       "[18,] \"0\"  \"0\"  \"0\"  \"0\"  \"0\"  \"0\"  \"0\"  \"0\"  \"0\"  \"0\"   \"⋯\"   \"0\"   \"0\"  \n",
       "[19,] \"0\"  \"0\"  \"0\"  \"0\"  \"0\"  \"0\"  \"0\"  \"0\"  \"0\"  \"0\"   \"⋯\"   \"0\"   \"0\"  \n",
       "[20,] \"0\"  \"0\"  \"0\"  \"0\"  \"0\"  \"0\"  \"0\"  \"0\"  \"0\"  \"0\"   \"⋯\"   \"0\"   \"0\"  \n",
       "[21,] \"0\"  \"0\"  \"0\"  \"0\"  \"0\"  \"0\"  \"0\"  \"0\"  \"0\"  \"0\"   \"⋯\"   \"0\"   \"0\"  \n",
       "      [,14] [,15] [,16] [,17] [,18] [,19] [,20] [,21]\n",
       " [1,] \"0\"   \"0\"   \"0\"   \"0\"   \"0\"   \"0\"   \"0\"   \"0\"  \n",
       " [2,] \"0\"   \"0\"   \"0\"   \"0\"   \"0\"   \"0\"   \"0\"   \"0\"  \n",
       " [3,] \"0\"   \"0\"   \"0\"   \"0\"   \"0\"   \"0\"   \"0\"   \"0\"  \n",
       " [4,] \"0\"   \"0\"   \"0\"   \"0\"   \"0\"   \"0\"   \"0\"   \"0\"  \n",
       " [5,] \"0\"   \"0\"   \"0\"   \"0\"   \"0\"   \"0\"   \"0\"   \"0\"  \n",
       " [6,] \"0\"   \"0\"   \"0\"   \"0\"   \"0\"   \"0\"   \"0\"   \"0\"  \n",
       " [7,] \"0\"   \"0\"   \"0\"   \"0\"   \"0\"   \"0\"   \"0\"   \"0\"  \n",
       " [8,] \"0\"   \"0\"   \"0\"   \"0\"   \"0\"   \"0\"   \"0\"   \"0\"  \n",
       " [9,] \"0\"   \"0\"   \"0\"   \"0\"   \"0\"   \"0\"   \"0\"   \"0\"  \n",
       "[10,] \"0\"   \"0\"   \"0\"   \"0\"   \"0\"   \"0\"   \"0\"   \"0\"  \n",
       "[11,] \"0\"   \"0\"   \"0\"   \"0\"   \"0\"   \"0\"   \"0\"   \"0\"  \n",
       "[12,] \"0\"   \"0\"   \"0\"   \"0\"   \"0\"   \"0\"   \"0\"   \"0\"  \n",
       "[13,] \"0\"   \"0\"   \"0\"   \"0\"   \"0\"   \"0\"   \"0\"   \"0\"  \n",
       "[14,] \"0\"   \"0\"   \"0\"   \"0\"   \"0\"   \"0\"   \"0\"   \"0\"  \n",
       "[15,] \"1\"   \"0\"   \"0\"   \"0\"   \"0\"   \"0\"   \"0\"   \"0\"  \n",
       "[16,] \"0\"   \"1\"   \"0\"   \"0\"   \"0\"   \"0\"   \"0\"   \"0\"  \n",
       "[17,] \"0\"   \"0\"   \"1\"   \"0\"   \"0\"   \"0\"   \"0\"   \"0\"  \n",
       "[18,] \"0\"   \"0\"   \"0\"   \"1\"   \"0\"   \"0\"   \"0\"   \"0\"  \n",
       "[19,] \"0\"   \"0\"   \"0\"   \"0\"   \"1\"   \"0\"   \"0\"   \"0\"  \n",
       "[20,] \"0\"   \"0\"   \"0\"   \"0\"   \"0\"   \"1\"   \"0\"   \"0\"  \n",
       "[21,] \"0\"   \"0\"   \"0\"   \"0\"   \"0\"   \"0\"   \"1\"   \"0\"  "
      ]
     },
     "metadata": {},
     "output_type": "display_data"
    }
   ],
   "source": [
    "# solucion\n",
    "v <- rep(1,20)\n",
    "M <- diag(v,nrow=20,ncol=21)\n",
    "M <- rbind(0,M)\n",
    "M"
   ]
  },
  {
   "cell_type": "markdown",
   "metadata": {},
   "source": [
    "10 .Crea una variable lista que contenga todos los números cuadrados en el rango de `0` a `9` en el primer elemento, en el rango de `10` a `19 `en el segundo elemento  y así sucesivamente, hasta alcanzar los números cuadrados en el rango de `90` a `99`. Elementos sin números cuadrados deben ser incluidos."
   ]
  },
  {
   "cell_type": "code",
   "execution_count": 44,
   "metadata": {
    "collapsed": true
   },
   "outputs": [],
   "source": [
    "# solucion"
   ]
  },
  {
   "cell_type": "markdown",
   "metadata": {},
   "source": [
    "11 .R  viene con varios conjuntos de datos integrados, incluyendo conjunto de datos `iris`  recopilados por Anderson y analizados por Fisher . Escribe `iris` para ver el conjunto de datos. Cree un data frame  que consiste de columnas numéricas del conjunto de datos  `iris`  y calcule las medias de sus columnas."
   ]
  },
  {
   "cell_type": "code",
   "execution_count": 45,
   "metadata": {
    "collapsed": true
   },
   "outputs": [],
   "source": [
    "# solucion"
   ]
  },
  {
   "cell_type": "markdown",
   "metadata": {},
   "source": [
    "12 . Sea el siguiente texto en inglés:"
   ]
  },
  {
   "cell_type": "code",
   "execution_count": 46,
   "metadata": {
    "collapsed": true
   },
   "outputs": [],
   "source": [
    "sea_shells <- c(\n",
    "\"She\", \"sells\", \"sea\", \"shells\", \"by\", \"the\", \"seashore\",\n",
    "\"The\", \"shells\", \"she\", \"sells\", \"are\", \"surely\", \"seashells\",\n",
    "\"So\", \"if\", \"she\", \"sells\", \"shells\", \"on\", \"the\", \"seashore\",\n",
    "\"I'm\", \"sure\", \"she\", \"sells\", \"seashore\", \"shells\"\n",
    ")"
   ]
  },
  {
   "cell_type": "markdown",
   "metadata": {},
   "source": [
    "Utiliza la función `nchar` para calcular el número de letras en cada palabra. Ahora utilize un bucle  sobre las longitudes de palabras posibles, mostrando un mensaje acerca de qué una palabra tienen una longitud dada."
   ]
  },
  {
   "cell_type": "code",
   "execution_count": 3,
   "metadata": {
    "collapsed": false
   },
   "outputs": [
    {
     "data": {
      "text/html": [
       "\n",
       "<table width=\"100%\" summary=\"page for all.equal {base}\"><tr><td>all.equal {base}</td><td style=\"text-align: right;\">R Documentation</td></tr></table>\n",
       "\n",
       "<h2>Test if Two Objects are (Nearly) Equal</h2>\n",
       "\n",
       "<h3>Description</h3>\n",
       "\n",
       "<p><code>all.equal(x, y)</code> is a utility to compare <span style=\"font-family: Courier New, Courier; color: #666666;\"><b>R</b></span> objects <code>x</code>\n",
       "and <code>y</code> testing &lsquo;near equality&rsquo;.  If they are different,\n",
       "comparison is still made to some extent, and a report of the\n",
       "differences is returned.    Do not use <code>all.equal</code> directly in\n",
       "<code>if</code> expressions&mdash;either use <code>isTRUE(all.equal(....))</code> or\n",
       "<code>identical</code> if appropriate.\n",
       "</p>\n",
       "\n",
       "\n",
       "<h3>Usage</h3>\n",
       "\n",
       "<pre>\n",
       "all.equal(target, current, ...)\n",
       "\n",
       "## S3 method for class 'numeric'\n",
       "all.equal(target, current,\n",
       "          tolerance = sqrt(.Machine$double.eps), scale = NULL,\n",
       "          ..., check.attributes = TRUE)\n",
       "\n",
       "## S3 method for class 'list'\n",
       "all.equal(target, current, ...,\n",
       "          check.attributes = TRUE, use.names = TRUE)\n",
       "\n",
       "## S3 method for class 'environment'\n",
       "all.equal(target, current, all.names=TRUE, ...)\n",
       "\n",
       "## S3 method for class 'POSIXt'\n",
       "all.equal(target, current, ..., tolerance = 1e-3, scale)\n",
       "\n",
       "\n",
       "attr.all.equal(target, current, ...,\n",
       "               check.attributes = TRUE, check.names = TRUE)\n",
       "</pre>\n",
       "\n",
       "\n",
       "<h3>Arguments</h3>\n",
       "\n",
       "<table summary=\"R argblock\">\n",
       "<tr valign=\"top\"><td><code>target</code></td>\n",
       "<td>\n",
       "<p><span style=\"font-family: Courier New, Courier; color: #666666;\"><b>R</b></span> object.</p>\n",
       "</td></tr>\n",
       "<tr valign=\"top\"><td><code>current</code></td>\n",
       "<td>\n",
       "<p>other <span style=\"font-family: Courier New, Courier; color: #666666;\"><b>R</b></span> object, to be compared with <code>target</code>.</p>\n",
       "</td></tr>\n",
       "<tr valign=\"top\"><td><code>...</code></td>\n",
       "<td>\n",
       "<p>Further arguments for different methods, notably the\n",
       "following two, for numerical comparison:</p>\n",
       "</td></tr>\n",
       "<tr valign=\"top\"><td><code>tolerance</code></td>\n",
       "<td>\n",
       "<p>numeric <i>&ge;</i> 0.  Differences smaller than\n",
       "<code>tolerance</code> are not reported.  The default value is close to\n",
       "<code>1.5e-8</code>.</p>\n",
       "</td></tr>\n",
       "<tr valign=\"top\"><td><code>scale</code></td>\n",
       "<td>\n",
       "<p>numeric scalar &gt; 0 (or <code>NULL</code>). See &lsquo;Details&rsquo;.</p>\n",
       "</td></tr>\n",
       "<tr valign=\"top\"><td><code>check.attributes</code></td>\n",
       "<td>\n",
       "<p>logical indicating if the\n",
       "<code>attributes</code> of <code>target</code> and <code>current</code>\n",
       "(other than the names) should be compared.</p>\n",
       "</td></tr>\n",
       "<tr valign=\"top\"><td><code>use.names</code></td>\n",
       "<td>\n",
       "<p>logical indicating if <code>list</code> comparison\n",
       "should report differing components by name (if matching) instead of\n",
       "integer index.  Note that this comes after <code>...</code> and so must\n",
       "be specified by its full name.</p>\n",
       "</td></tr>\n",
       "<tr valign=\"top\"><td><code>all.names</code></td>\n",
       "<td>\n",
       "<p>logical passed to <code>ls</code> indicating if\n",
       "&ldquo;hidden&rdquo; objects should also be considered in the environments.</p>\n",
       "</td></tr>\n",
       "<tr valign=\"top\"><td><code>check.names</code></td>\n",
       "<td>\n",
       "<p>logical indicating if the <code>names(.)</code>\n",
       "of <code>target</code> and <code>current</code> should be compared.</p>\n",
       "</td></tr>\n",
       "</table>\n",
       "\n",
       "\n",
       "<h3>Details</h3>\n",
       "\n",
       "<p><code>all.equal</code> is a generic function, dispatching methods on the\n",
       "<code>target</code> argument.  To see the available methods, use\n",
       "<code>methods(\"all.equal\")</code>, but note that the default method\n",
       "also does some dispatching, e.g. using the raw method for logical\n",
       "targets.\n",
       "</p>\n",
       "<p>Remember that arguments which follow <code>...</code> must be specified by\n",
       "(unabbreviated) name: some of them were before <code>...</code> prior to\n",
       "<span style=\"font-family: Courier New, Courier; color: #666666;\"><b>R</b></span> 3.1.0.  It is inadvisable to pass unnamed arguments in <code>...</code>\n",
       "as these will match different arguments in different methods.\n",
       "</p>\n",
       "<p>Numerical comparisons for <code>scale = NULL</code> (the default) are\n",
       "typically on <em>relative difference</em> scale unless the target values\n",
       "are close to zero:  First, the mean absolute difference of the two\n",
       "numerical vectors is computed.  If this is smaller than\n",
       "<code>tolerance</code> or not finite, absolute differences are used,\n",
       "otherwise relative differences scaled by the mean absolute\n",
       "<code>target</code> value.\n",
       "(Note that these comparisons are computed only for those vector elements\n",
       "where <code>target</code> is not <code>NA</code> and differs from <code>current</code>.)\n",
       "</p>\n",
       "<p>If <code>scale</code> is positive, absolute comparisons are made after\n",
       "scaling (dividing) by <code>scale</code>.\n",
       "</p>\n",
       "<p>For complex <code>target</code>, the modulus (<code>Mod</code>) of the\n",
       "difference is used: <code>all.equal.numeric</code> is called so arguments\n",
       "<code>tolerance</code> and <code>scale</code> are available.\n",
       "</p>\n",
       "<p>The <code>list</code> method compares components of\n",
       "<code>target</code> and <code>current</code> recursively, passing all other\n",
       "arguments, as long as both are &ldquo;list-like&rdquo;, i.e., fulfill\n",
       "either <code>is.vector</code> or <code>is.list</code>.\n",
       "</p>\n",
       "<p>The <code>environment</code> method works via the <code>list</code> method,\n",
       "and is also used for reference classes (unless a specific\n",
       "<code>all.equal</code> method is defined).\n",
       "</p>\n",
       "<p>The methods for the date-time classes by default allow a tolerance of\n",
       "<code>tolerance = 0.001</code> seconds, and ignore <code>scale</code>.\n",
       "</p>\n",
       "<p><code>attr.all.equal</code> is used for comparing\n",
       "<code>attributes</code>, returning <code>NULL</code> or a\n",
       "<code>character</code> vector.\n",
       "</p>\n",
       "\n",
       "\n",
       "<h3>Value</h3>\n",
       "\n",
       "<p>Either <code>TRUE</code> (<code>NULL</code> for <code>attr.all.equal</code>) or a vector\n",
       "of <code>mode</code> <code>\"character\"</code> describing the differences\n",
       "between <code>target</code> and <code>current</code>.\n",
       "</p>\n",
       "\n",
       "\n",
       "<h3>References</h3>\n",
       "\n",
       "<p>Chambers, J. M. (1998)\n",
       "<em>Programming with Data. A Guide to the S Language</em>.\n",
       "Springer (for <code>=</code>).\n",
       "</p>\n",
       "\n",
       "\n",
       "<h3>See Also</h3>\n",
       "\n",
       "<p><code>identical</code>, <code>isTRUE</code>, <code>==</code>, and\n",
       "<code>all</code> for exact equality testing.\n",
       "</p>\n",
       "\n",
       "\n",
       "<h3>Examples</h3>\n",
       "\n",
       "<pre>\n",
       "all.equal(pi, 355/113)\n",
       "# not precise enough (default tol) &gt; relative error\n",
       "\n",
       "d45 &lt;- pi*(1/4 + 1:10)\n",
       "stopifnot(\n",
       "all.equal(tan(d45), rep(1, 10)))          # TRUE, but\n",
       "all      (tan(d45) == rep(1, 10))         # FALSE, since not exactly\n",
       "all.equal(tan(d45), rep(1, 10), tolerance = 0)  # to see difference\n",
       "\n",
       "## advanced: equality of environments\n",
       "ae &lt;- all.equal(as.environment(\"package:stats\"),\n",
       "                asNamespace(\"stats\"))\n",
       "stopifnot(is.character(ae), length(ae) &gt; 10,\n",
       "          ## were incorrectly \"considered equal\" in R &lt;= 3.1.1\n",
       "          all.equal(asNamespace(\"stats\"), asNamespace(\"stats\")))\n",
       "</pre>\n",
       "\n",
       "<hr /><div style=\"text-align: center;\">[Package <em>base</em> version 3.3.1 ]</div>"
      ],
      "text/latex": [
       "\\inputencoding{utf8}\n",
       "\\HeaderA{all.equal}{Test if Two Objects are (Nearly) Equal}{all.equal}\n",
       "\\methaliasA{all.equal.character}{all.equal}{all.equal.character}\n",
       "\\methaliasA{all.equal.default}{all.equal}{all.equal.default}\n",
       "\\methaliasA{all.equal.environment}{all.equal}{all.equal.environment}\n",
       "\\methaliasA{all.equal.envRefClass}{all.equal}{all.equal.envRefClass}\n",
       "\\methaliasA{all.equal.factor}{all.equal}{all.equal.factor}\n",
       "\\methaliasA{all.equal.formula}{all.equal}{all.equal.formula}\n",
       "\\methaliasA{all.equal.language}{all.equal}{all.equal.language}\n",
       "\\methaliasA{all.equal.list}{all.equal}{all.equal.list}\n",
       "\\methaliasA{all.equal.numeric}{all.equal}{all.equal.numeric}\n",
       "\\methaliasA{all.equal.POSIXt}{all.equal}{all.equal.POSIXt}\n",
       "\\methaliasA{all.equal.raw}{all.equal}{all.equal.raw}\n",
       "\\aliasA{attr.all.equal}{all.equal}{attr.all.equal}\n",
       "\\keyword{programming}{all.equal}\n",
       "\\keyword{utilities}{all.equal}\n",
       "\\keyword{logic}{all.equal}\n",
       "\\keyword{arith}{all.equal}\n",
       "%\n",
       "\\begin{Description}\\relax\n",
       "\\code{all.equal(x, y)} is a utility to compare \\R{} objects \\code{x}\n",
       "and \\code{y} testing `near equality'.  If they are different,\n",
       "comparison is still made to some extent, and a report of the\n",
       "differences is returned.    Do not use \\code{all.equal} directly in\n",
       "\\code{if} expressions---either use \\code{isTRUE(all.equal(....))} or\n",
       "\\code{\\LinkA{identical}{identical}} if appropriate.\n",
       "\\end{Description}\n",
       "%\n",
       "\\begin{Usage}\n",
       "\\begin{verbatim}\n",
       "all.equal(target, current, ...)\n",
       "\n",
       "## S3 method for class 'numeric'\n",
       "all.equal(target, current,\n",
       "          tolerance = sqrt(.Machine$double.eps), scale = NULL,\n",
       "          ..., check.attributes = TRUE)\n",
       "\n",
       "## S3 method for class 'list'\n",
       "all.equal(target, current, ...,\n",
       "          check.attributes = TRUE, use.names = TRUE)\n",
       "\n",
       "## S3 method for class 'environment'\n",
       "all.equal(target, current, all.names=TRUE, ...)\n",
       "\n",
       "## S3 method for class 'POSIXt'\n",
       "all.equal(target, current, ..., tolerance = 1e-3, scale)\n",
       "\n",
       "\n",
       "attr.all.equal(target, current, ...,\n",
       "               check.attributes = TRUE, check.names = TRUE)\n",
       "\\end{verbatim}\n",
       "\\end{Usage}\n",
       "%\n",
       "\\begin{Arguments}\n",
       "\\begin{ldescription}\n",
       "\\item[\\code{target}] \\R{} object.\n",
       "\\item[\\code{current}] other \\R{} object, to be compared with \\code{target}.\n",
       "\\item[\\code{...}] Further arguments for different methods, notably the\n",
       "following two, for numerical comparison:\n",
       "\\item[\\code{tolerance}] numeric \\eqn{\\ge}{} 0.  Differences smaller than\n",
       "\\code{tolerance} are not reported.  The default value is close to\n",
       "\\code{1.5e-8}.\n",
       "\\item[\\code{scale}] numeric scalar > 0 (or \\code{NULL}). See `Details'.\n",
       "\\item[\\code{check.attributes}] logical indicating if the\n",
       "\\code{\\LinkA{attributes}{attributes}} of \\code{target} and \\code{current}\n",
       "(other than the names) should be compared.\n",
       "\\item[\\code{use.names}] logical indicating if \\code{\\LinkA{list}{list}} comparison\n",
       "should report differing components by name (if matching) instead of\n",
       "integer index.  Note that this comes after \\code{...} and so must\n",
       "be specified by its full name.\n",
       "\\item[\\code{all.names}] logical passed to \\code{\\LinkA{ls}{ls}} indicating if\n",
       "``hidden'' objects should also be considered in the environments.\n",
       "\\item[\\code{check.names}] logical indicating if the \\code{\\LinkA{names}{names}(.)}\n",
       "of \\code{target} and \\code{current} should be compared.\n",
       "\\end{ldescription}\n",
       "\\end{Arguments}\n",
       "%\n",
       "\\begin{Details}\\relax\n",
       "\\code{all.equal} is a generic function, dispatching methods on the\n",
       "\\code{target} argument.  To see the available methods, use\n",
       "\\code{\\LinkA{methods}{methods}(\"all.equal\")}, but note that the default method\n",
       "also does some dispatching, e.g.~using the raw method for logical\n",
       "targets.\n",
       "\n",
       "Remember that arguments which follow \\code{...} must be specified by\n",
       "(unabbreviated) name: some of them were before \\code{...} prior to\n",
       "\\R{} 3.1.0.  It is inadvisable to pass unnamed arguments in \\code{...}\n",
       "as these will match different arguments in different methods.\n",
       "\n",
       "Numerical comparisons for \\code{scale = NULL} (the default) are\n",
       "typically on \\emph{relative difference} scale unless the target values\n",
       "are close to zero:  First, the mean absolute difference of the two\n",
       "numerical vectors is computed.  If this is smaller than\n",
       "\\code{tolerance} or not finite, absolute differences are used,\n",
       "otherwise relative differences scaled by the mean absolute\n",
       "\\code{target} value.\n",
       "(Note that these comparisons are computed only for those vector elements\n",
       "where \\code{target} is not \\code{\\LinkA{NA}{NA}} and differs from \\code{current}.)\n",
       "\n",
       "If \\code{scale} is positive, absolute comparisons are made after\n",
       "scaling (dividing) by \\code{scale}.\n",
       "\n",
       "For complex \\code{target}, the modulus (\\code{\\LinkA{Mod}{Mod}}) of the\n",
       "difference is used: \\code{all.equal.numeric} is called so arguments\n",
       "\\code{tolerance} and \\code{scale} are available.\n",
       "\n",
       "The \\code{\\LinkA{list}{list}} method compares components of\n",
       "\\code{target} and \\code{current} recursively, passing all other\n",
       "arguments, as long as both are ``list-like'', i.e., fulfill\n",
       "either \\code{\\LinkA{is.vector}{is.vector}} or \\code{\\LinkA{is.list}{is.list}}.\n",
       "\n",
       "The \\code{\\LinkA{environment}{environment}} method works via the \\code{list} method,\n",
       "and is also used for reference classes (unless a specific\n",
       "\\code{all.equal} method is defined).\n",
       "\n",
       "The methods for the date-time classes by default allow a tolerance of\n",
       "\\code{tolerance = 0.001} seconds, and ignore \\code{scale}.\n",
       "\n",
       "\\code{attr.all.equal} is used for comparing\n",
       "\\code{\\LinkA{attributes}{attributes}}, returning \\code{NULL} or a\n",
       "\\code{character} vector.\n",
       "\\end{Details}\n",
       "%\n",
       "\\begin{Value}\n",
       "Either \\code{TRUE} (\\code{NULL} for \\code{attr.all.equal}) or a vector\n",
       "of \\code{\\LinkA{mode}{mode}} \\code{\"character\"} describing the differences\n",
       "between \\code{target} and \\code{current}.\n",
       "\\end{Value}\n",
       "%\n",
       "\\begin{References}\\relax\n",
       "Chambers, J. M. (1998)\n",
       "\\emph{Programming with Data. A Guide to the S Language}.\n",
       "Springer (for \\code{=}).\n",
       "\\end{References}\n",
       "%\n",
       "\\begin{SeeAlso}\\relax\n",
       "\\code{\\LinkA{identical}{identical}}, \\code{\\LinkA{isTRUE}{isTRUE}}, \\code{\\LinkA{==}{==}}, and\n",
       "\\code{\\LinkA{all}{all}} for exact equality testing.\n",
       "\\end{SeeAlso}\n",
       "%\n",
       "\\begin{Examples}\n",
       "\\begin{ExampleCode}\n",
       "all.equal(pi, 355/113)\n",
       "# not precise enough (default tol) > relative error\n",
       "\n",
       "d45 <- pi*(1/4 + 1:10)\n",
       "stopifnot(\n",
       "all.equal(tan(d45), rep(1, 10)))          # TRUE, but\n",
       "all      (tan(d45) == rep(1, 10))         # FALSE, since not exactly\n",
       "all.equal(tan(d45), rep(1, 10), tolerance = 0)  # to see difference\n",
       "\n",
       "## advanced: equality of environments\n",
       "ae <- all.equal(as.environment(\"package:stats\"),\n",
       "                asNamespace(\"stats\"))\n",
       "stopifnot(is.character(ae), length(ae) > 10,\n",
       "          ## were incorrectly \"considered equal\" in R <= 3.1.1\n",
       "          all.equal(asNamespace(\"stats\"), asNamespace(\"stats\")))\n",
       "\\end{ExampleCode}\n",
       "\\end{Examples}"
      ],
      "text/plain": [
       "all.equal                 package:base                 R Documentation\n",
       "\n",
       "_\bT_\be_\bs_\bt _\bi_\bf _\bT_\bw_\bo _\bO_\bb_\bj_\be_\bc_\bt_\bs _\ba_\br_\be (_\bN_\be_\ba_\br_\bl_\by) _\bE_\bq_\bu_\ba_\bl\n",
       "\n",
       "_\bD_\be_\bs_\bc_\br_\bi_\bp_\bt_\bi_\bo_\bn:\n",
       "\n",
       "     ‘all.equal(x, y)’ is a utility to compare R objects ‘x’ and ‘y’\n",
       "     testing ‘near equality’.  If they are different, comparison is\n",
       "     still made to some extent, and a report of the differences is\n",
       "     returned.  Do not use ‘all.equal’ directly in ‘if’\n",
       "     expressions-either use ‘isTRUE(all.equal(....))’ or ‘identical’ if\n",
       "     appropriate.\n",
       "\n",
       "_\bU_\bs_\ba_\bg_\be:\n",
       "\n",
       "     all.equal(target, current, ...)\n",
       "     \n",
       "     ## S3 method for class 'numeric'\n",
       "     all.equal(target, current,\n",
       "               tolerance = sqrt(.Machine$double.eps), scale = NULL,\n",
       "               ..., check.attributes = TRUE)\n",
       "     \n",
       "     ## S3 method for class 'list'\n",
       "     all.equal(target, current, ...,\n",
       "               check.attributes = TRUE, use.names = TRUE)\n",
       "     \n",
       "     ## S3 method for class 'environment'\n",
       "     all.equal(target, current, all.names=TRUE, ...)\n",
       "     \n",
       "     ## S3 method for class 'POSIXt'\n",
       "     all.equal(target, current, ..., tolerance = 1e-3, scale)\n",
       "     \n",
       "     \n",
       "     attr.all.equal(target, current, ...,\n",
       "                    check.attributes = TRUE, check.names = TRUE)\n",
       "     \n",
       "_\bA_\br_\bg_\bu_\bm_\be_\bn_\bt_\bs:\n",
       "\n",
       "  target: R object.\n",
       "\n",
       " current: other R object, to be compared with ‘target’.\n",
       "\n",
       "     ...: Further arguments for different methods, notably the\n",
       "          following two, for numerical comparison:\n",
       "\n",
       "tolerance: numeric >= 0.  Differences smaller than ‘tolerance’ are not\n",
       "          reported.  The default value is close to ‘1.5e-8’.\n",
       "\n",
       "   scale: numeric scalar > 0 (or ‘NULL’). See ‘Details’.\n",
       "\n",
       "check.attributes: logical indicating if the ‘attributes’ of ‘target’\n",
       "          and ‘current’ (other than the names) should be compared.\n",
       "\n",
       "use.names: logical indicating if ‘list’ comparison should report\n",
       "          differing components by name (if matching) instead of integer\n",
       "          index.  Note that this comes after ‘...’ and so must be\n",
       "          specified by its full name.\n",
       "\n",
       "all.names: logical passed to ‘ls’ indicating if “hidden” objects should\n",
       "          also be considered in the environments.\n",
       "\n",
       "check.names: logical indicating if the ‘names(.)’ of ‘target’ and\n",
       "          ‘current’ should be compared.\n",
       "\n",
       "_\bD_\be_\bt_\ba_\bi_\bl_\bs:\n",
       "\n",
       "     ‘all.equal’ is a generic function, dispatching methods on the\n",
       "     ‘target’ argument.  To see the available methods, use\n",
       "     ‘methods(\"all.equal\")’, but note that the default method also does\n",
       "     some dispatching, e.g. using the raw method for logical targets.\n",
       "\n",
       "     Remember that arguments which follow ‘...’ must be specified by\n",
       "     (unabbreviated) name: some of them were before ‘...’ prior to R\n",
       "     3.1.0.  It is inadvisable to pass unnamed arguments in ‘...’ as\n",
       "     these will match different arguments in different methods.\n",
       "\n",
       "     Numerical comparisons for ‘scale = NULL’ (the default) are\n",
       "     typically on _relative difference_ scale unless the target values\n",
       "     are close to zero: First, the mean absolute difference of the two\n",
       "     numerical vectors is computed.  If this is smaller than\n",
       "     ‘tolerance’ or not finite, absolute differences are used,\n",
       "     otherwise relative differences scaled by the mean absolute\n",
       "     ‘target’ value.  (Note that these comparisons are computed only\n",
       "     for those vector elements where ‘target’ is not ‘NA’ and differs\n",
       "     from ‘current’.)\n",
       "\n",
       "     If ‘scale’ is positive, absolute comparisons are made after\n",
       "     scaling (dividing) by ‘scale’.\n",
       "\n",
       "     For complex ‘target’, the modulus (‘Mod’) of the difference is\n",
       "     used: ‘all.equal.numeric’ is called so arguments ‘tolerance’ and\n",
       "     ‘scale’ are available.\n",
       "\n",
       "     The ‘list’ method compares components of ‘target’ and ‘current’\n",
       "     recursively, passing all other arguments, as long as both are\n",
       "     “list-like”, i.e., fulfill either ‘is.vector’ or ‘is.list’.\n",
       "\n",
       "     The ‘environment’ method works via the ‘list’ method, and is also\n",
       "     used for reference classes (unless a specific ‘all.equal’ method\n",
       "     is defined).\n",
       "\n",
       "     The methods for the date-time classes by default allow a tolerance\n",
       "     of ‘tolerance = 0.001’ seconds, and ignore ‘scale’.\n",
       "\n",
       "     ‘attr.all.equal’ is used for comparing ‘attributes’, returning\n",
       "     ‘NULL’ or a ‘character’ vector.\n",
       "\n",
       "_\bV_\ba_\bl_\bu_\be:\n",
       "\n",
       "     Either ‘TRUE’ (‘NULL’ for ‘attr.all.equal’) or a vector of ‘mode’\n",
       "     ‘\"character\"’ describing the differences between ‘target’ and\n",
       "     ‘current’.\n",
       "\n",
       "_\bR_\be_\bf_\be_\br_\be_\bn_\bc_\be_\bs:\n",
       "\n",
       "     Chambers, J. M. (1998) _Programming with Data. A Guide to the S\n",
       "     Language_.  Springer (for ‘=’).\n",
       "\n",
       "_\bS_\be_\be _\bA_\bl_\bs_\bo:\n",
       "\n",
       "     ‘identical’, ‘isTRUE’, ‘==’, and ‘all’ for exact equality testing.\n",
       "\n",
       "_\bE_\bx_\ba_\bm_\bp_\bl_\be_\bs:\n",
       "\n",
       "     all.equal(pi, 355/113)\n",
       "     # not precise enough (default tol) > relative error\n",
       "     \n",
       "     d45 <- pi*(1/4 + 1:10)\n",
       "     stopifnot(\n",
       "     all.equal(tan(d45), rep(1, 10)))          # TRUE, but\n",
       "     all      (tan(d45) == rep(1, 10))         # FALSE, since not exactly\n",
       "     all.equal(tan(d45), rep(1, 10), tolerance = 0)  # to see difference\n",
       "     \n",
       "     ## advanced: equality of environments\n",
       "     ae <- all.equal(as.environment(\"package:stats\"),\n",
       "                     asNamespace(\"stats\"))\n",
       "     stopifnot(is.character(ae), length(ae) > 10,\n",
       "               ## were incorrectly \"considered equal\" in R <= 3.1.1\n",
       "               all.equal(asNamespace(\"stats\"), asNamespace(\"stats\")))\n",
       "     "
      ]
     },
     "metadata": {},
     "output_type": "display_data"
    }
   ],
   "source": [
    "help(all.equal)"
   ]
  },
  {
   "cell_type": "code",
   "execution_count": null,
   "metadata": {
    "collapsed": true
   },
   "outputs": [],
   "source": []
  }
 ],
 "metadata": {
  "kernelspec": {
   "display_name": "R",
   "language": "R",
   "name": "ir"
  },
  "language_info": {
   "codemirror_mode": "r",
   "file_extension": ".r",
   "mimetype": "text/x-r-source",
   "name": "R",
   "pygments_lexer": "r",
   "version": "3.3.1"
  }
 },
 "nbformat": 4,
 "nbformat_minor": 1
}
